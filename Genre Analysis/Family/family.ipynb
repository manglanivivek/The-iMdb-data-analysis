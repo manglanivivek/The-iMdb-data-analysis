{
 "cells": [
  {
   "attachments": {},
   "cell_type": "markdown",
   "metadata": {},
   "source": [
    "# Family Film Analysis"
   ]
  },
  {
   "attachments": {},
   "cell_type": "markdown",
   "metadata": {},
   "source": [
    "## Importing Libraries"
   ]
  },
  {
   "cell_type": "code",
   "execution_count": 1,
   "metadata": {},
   "outputs": [],
   "source": [
    "import pandas as pd\n",
    "import matplotlib.pyplot as mat\n",
    "import seaborn as sea\n",
    "import openpyxl\n",
    "import numpy as np"
   ]
  },
  {
   "attachments": {},
   "cell_type": "markdown",
   "metadata": {},
   "source": [
    "## Adding File"
   ]
  },
  {
   "cell_type": "code",
   "execution_count": 2,
   "metadata": {},
   "outputs": [],
   "source": [
    "familydf = pd.read_csv(\"family.csv\")"
   ]
  },
  {
   "attachments": {},
   "cell_type": "markdown",
   "metadata": {},
   "source": [
    "## Managing Indexes"
   ]
  },
  {
   "cell_type": "code",
   "execution_count": 3,
   "metadata": {},
   "outputs": [],
   "source": [
    "familydf.index +=1"
   ]
  },
  {
   "attachments": {},
   "cell_type": "markdown",
   "metadata": {},
   "source": [
    "### Genre Description"
   ]
  },
  {
   "attachments": {},
   "cell_type": "markdown",
   "metadata": {},
   "source": [
    "### Genre Information"
   ]
  },
  {
   "cell_type": "code",
   "execution_count": 4,
   "metadata": {},
   "outputs": [
    {
     "name": "stdout",
     "output_type": "stream",
     "text": [
      "<class 'pandas.core.frame.DataFrame'>\n",
      "RangeIndex: 17095 entries, 1 to 17095\n",
      "Data columns (total 14 columns):\n",
      " #   Column       Non-Null Count  Dtype  \n",
      "---  ------       --------------  -----  \n",
      " 0   movie_id     17095 non-null  object \n",
      " 1   movie_name   17095 non-null  object \n",
      " 2   year         15464 non-null  object \n",
      " 3   certificate  4613 non-null   object \n",
      " 4   runtime      13187 non-null  object \n",
      " 5   genre        17095 non-null  object \n",
      " 6   rating       11712 non-null  float64\n",
      " 7   description  17095 non-null  object \n",
      " 8   director     16208 non-null  object \n",
      " 9   director_id  16208 non-null  object \n",
      " 10  star         14952 non-null  object \n",
      " 11  star_id      15229 non-null  object \n",
      " 12  votes        11712 non-null  float64\n",
      " 13  gross(in $)  1240 non-null   float64\n",
      "dtypes: float64(3), object(11)\n",
      "memory usage: 1.8+ MB\n"
     ]
    }
   ],
   "source": [
    "familydf.info()"
   ]
  },
  {
   "attachments": {},
   "cell_type": "markdown",
   "metadata": {},
   "source": [
    "### Statistial Description of Genre"
   ]
  },
  {
   "cell_type": "code",
   "execution_count": 5,
   "metadata": {},
   "outputs": [
    {
     "data": {
      "text/plain": [
       "count    11712.000000\n",
       "mean         6.125085\n",
       "std          1.265569\n",
       "min          1.000000\n",
       "25%          5.400000\n",
       "50%          6.200000\n",
       "75%          7.000000\n",
       "max          9.900000\n",
       "Name: rating, dtype: float64"
      ]
     },
     "execution_count": 5,
     "metadata": {},
     "output_type": "execute_result"
    }
   ],
   "source": [
    "familydf[\"rating\"].describe()"
   ]
  },
  {
   "attachments": {},
   "cell_type": "markdown",
   "metadata": {},
   "source": [
    "### Count of null values"
   ]
  },
  {
   "cell_type": "code",
   "execution_count": 6,
   "metadata": {},
   "outputs": [
    {
     "data": {
      "text/plain": [
       "movie_id           0\n",
       "movie_name         0\n",
       "year            1631\n",
       "certificate    12482\n",
       "runtime         3908\n",
       "genre              0\n",
       "rating          5383\n",
       "description        0\n",
       "director         887\n",
       "director_id      887\n",
       "star            2143\n",
       "star_id         1866\n",
       "votes           5383\n",
       "gross(in $)    15855\n",
       "dtype: int64"
      ]
     },
     "execution_count": 6,
     "metadata": {},
     "output_type": "execute_result"
    }
   ],
   "source": [
    "familynull = familydf.isna().sum()\n",
    "familynull"
   ]
  },
  {
   "attachments": {},
   "cell_type": "markdown",
   "metadata": {},
   "source": [
    "### Percentage of missing values"
   ]
  },
  {
   "cell_type": "code",
   "execution_count": 7,
   "metadata": {},
   "outputs": [
    {
     "data": {
      "text/plain": [
       "gross(in $)    92.746417\n",
       "certificate    73.015502\n",
       "rating         31.488739\n",
       "votes          31.488739\n",
       "runtime        22.860486\n",
       "star           12.535829\n",
       "star_id        10.915472\n",
       "year            9.540801\n",
       "director        5.188652\n",
       "director_id     5.188652\n",
       "movie_id        0.000000\n",
       "movie_name      0.000000\n",
       "genre           0.000000\n",
       "description     0.000000\n",
       "dtype: float64"
      ]
     },
     "execution_count": 7,
     "metadata": {},
     "output_type": "execute_result"
    }
   ],
   "source": [
    "familymiss = familydf.isna().sum().sort_values(ascending=False)*100/len(familydf)\n",
    "familymiss"
   ]
  },
  {
   "attachments": {},
   "cell_type": "markdown",
   "metadata": {},
   "source": [
    "### Missing Rating Ratio Graph"
   ]
  },
  {
   "cell_type": "code",
   "execution_count": 8,
   "metadata": {},
   "outputs": [
    {
     "data": {
      "image/png": "[encoded data removed]",
      "text/plain": [
       "<Figure size 640x480 with 1 Axes>"
      ]
     },
     "metadata": {},
     "output_type": "display_data"
    }
   ],
   "source": [
    "familyratemiss = familydf[\"rating\"].isna().sum()\n",
    "familyratepre = len(familydf) - familyratemiss\n",
    "faratetage = [familyratemiss,familyratepre]\n",
    "labelact = [\"Not Available\", \"Available\"]\n",
    "mat.pie(faratetage, labels=labelact, autopct='%1.1f%%',\n",
    "        shadow=True, startangle=90)\n",
    "mat.show()"
   ]
  },
  {
   "attachments": {},
   "cell_type": "markdown",
   "metadata": {},
   "source": [
    "### Top 20 movies in terms of rating"
   ]
  },
  {
   "cell_type": "code",
   "execution_count": 9,
   "metadata": {},
   "outputs": [
    {
     "data": {
      "text/html": [
       "<div>\n",
       "<style scoped>\n",
       "    .dataframe tbody tr th:only-of-type {\n",
       "        vertical-align: middle;\n",
       "    }\n",
       "\n",
       "    .dataframe tbody tr th {\n",
       "        vertical-align: top;\n",
       "    }\n",
       "\n",
       "    .dataframe thead th {\n",
       "        text-align: right;\n",
       "    }\n",
       "</style>\n",
       "<table border=\"1\" class=\"dataframe\">\n",
       "  <thead>\n",
       "    <tr style=\"text-align: right;\">\n",
       "      <th></th>\n",
       "      <th>movie_name</th>\n",
       "      <th>year</th>\n",
       "      <th>rating</th>\n",
       "    </tr>\n",
       "  </thead>\n",
       "  <tbody>\n",
       "    <tr>\n",
       "      <th>9926</th>\n",
       "      <td>Maanavudu Daanavudu</td>\n",
       "      <td>1986</td>\n",
       "      <td>9.9</td>\n",
       "    </tr>\n",
       "    <tr>\n",
       "      <th>5375</th>\n",
       "      <td>Nerazumevalica (Understandinglessness)</td>\n",
       "      <td>2022</td>\n",
       "      <td>9.9</td>\n",
       "    </tr>\n",
       "    <tr>\n",
       "      <th>5693</th>\n",
       "      <td>Prathigna</td>\n",
       "      <td>1982</td>\n",
       "      <td>9.8</td>\n",
       "    </tr>\n",
       "    <tr>\n",
       "      <th>9235</th>\n",
       "      <td>The Great Mystery</td>\n",
       "      <td>2010</td>\n",
       "      <td>9.8</td>\n",
       "    </tr>\n",
       "    <tr>\n",
       "      <th>8190</th>\n",
       "      <td>Thirteen Downs</td>\n",
       "      <td>2012</td>\n",
       "      <td>9.8</td>\n",
       "    </tr>\n",
       "    <tr>\n",
       "      <th>12993</th>\n",
       "      <td>Prince Oak Oakleyski Andronovo</td>\n",
       "      <td>2022</td>\n",
       "      <td>9.8</td>\n",
       "    </tr>\n",
       "    <tr>\n",
       "      <th>6787</th>\n",
       "      <td>Smile Hearts</td>\n",
       "      <td>2022</td>\n",
       "      <td>9.8</td>\n",
       "    </tr>\n",
       "    <tr>\n",
       "      <th>3929</th>\n",
       "      <td>Fazeeta</td>\n",
       "      <td>2019</td>\n",
       "      <td>9.8</td>\n",
       "    </tr>\n",
       "    <tr>\n",
       "      <th>5209</th>\n",
       "      <td>MeippadaSei</td>\n",
       "      <td>2023</td>\n",
       "      <td>9.7</td>\n",
       "    </tr>\n",
       "    <tr>\n",
       "      <th>9145</th>\n",
       "      <td>Big games, in search of three treasures</td>\n",
       "      <td>2021</td>\n",
       "      <td>9.7</td>\n",
       "    </tr>\n",
       "    <tr>\n",
       "      <th>7995</th>\n",
       "      <td>Jingle Vingle the Movie</td>\n",
       "      <td>2022</td>\n",
       "      <td>9.7</td>\n",
       "    </tr>\n",
       "    <tr>\n",
       "      <th>7365</th>\n",
       "      <td>Love You Papa</td>\n",
       "      <td>2022</td>\n",
       "      <td>9.7</td>\n",
       "    </tr>\n",
       "    <tr>\n",
       "      <th>3984</th>\n",
       "      <td>Etham</td>\n",
       "      <td>2022</td>\n",
       "      <td>9.7</td>\n",
       "    </tr>\n",
       "    <tr>\n",
       "      <th>1923</th>\n",
       "      <td>Pardoned by Grace</td>\n",
       "      <td>2022</td>\n",
       "      <td>9.7</td>\n",
       "    </tr>\n",
       "    <tr>\n",
       "      <th>7099</th>\n",
       "      <td>Vasanthi Nalidaga</td>\n",
       "      <td>2022</td>\n",
       "      <td>9.7</td>\n",
       "    </tr>\n",
       "    <tr>\n",
       "      <th>8941</th>\n",
       "      <td>Amche Samsar</td>\n",
       "      <td>2021</td>\n",
       "      <td>9.7</td>\n",
       "    </tr>\n",
       "    <tr>\n",
       "      <th>1074</th>\n",
       "      <td>Ayisha</td>\n",
       "      <td>2023</td>\n",
       "      <td>9.6</td>\n",
       "    </tr>\n",
       "    <tr>\n",
       "      <th>9834</th>\n",
       "      <td>Asha</td>\n",
       "      <td>2022</td>\n",
       "      <td>9.6</td>\n",
       "    </tr>\n",
       "    <tr>\n",
       "      <th>10812</th>\n",
       "      <td>The Child King</td>\n",
       "      <td>2007</td>\n",
       "      <td>9.5</td>\n",
       "    </tr>\n",
       "    <tr>\n",
       "      <th>1353</th>\n",
       "      <td>Momo in Dubai</td>\n",
       "      <td>2023</td>\n",
       "      <td>9.5</td>\n",
       "    </tr>\n",
       "  </tbody>\n",
       "</table>\n",
       "</div>"
      ],
      "text/plain": [
       "                                    movie_name  year  rating\n",
       "9926                       Maanavudu Daanavudu  1986     9.9\n",
       "5375    Nerazumevalica (Understandinglessness)  2022     9.9\n",
       "5693                                 Prathigna  1982     9.8\n",
       "9235                         The Great Mystery  2010     9.8\n",
       "8190                            Thirteen Downs  2012     9.8\n",
       "12993           Prince Oak Oakleyski Andronovo  2022     9.8\n",
       "6787                              Smile Hearts  2022     9.8\n",
       "3929                                   Fazeeta  2019     9.8\n",
       "5209                               MeippadaSei  2023     9.7\n",
       "9145   Big games, in search of three treasures  2021     9.7\n",
       "7995                   Jingle Vingle the Movie  2022     9.7\n",
       "7365                             Love You Papa  2022     9.7\n",
       "3984                                     Etham  2022     9.7\n",
       "1923                         Pardoned by Grace  2022     9.7\n",
       "7099                         Vasanthi Nalidaga  2022     9.7\n",
       "8941                              Amche Samsar  2021     9.7\n",
       "1074                                    Ayisha  2023     9.6\n",
       "9834                                      Asha  2022     9.6\n",
       "10812                           The Child King  2007     9.5\n",
       "1353                             Momo in Dubai  2023     9.5"
      ]
     },
     "execution_count": 9,
     "metadata": {},
     "output_type": "execute_result"
    }
   ],
   "source": [
    "familytop= familydf.sort_values(by=['rating'],ascending=False)\n",
    "familytop= familytop[:20]\n",
    "familytop[['movie_name','year','rating']]"
   ]
  },
  {
   "attachments": {},
   "cell_type": "markdown",
   "metadata": {},
   "source": [
    "### Rating Distribution Graph"
   ]
  },
  {
   "cell_type": "code",
   "execution_count": 10,
   "metadata": {},
   "outputs": [
    {
     "data": {
      "image/png": "[encoded data removed]",
      "text/plain": [
       "<Figure size 500x500 with 1 Axes>"
      ]
     },
     "metadata": {},
     "output_type": "display_data"
    }
   ],
   "source": [
    "rdgfamily = familydf['rating']\n",
    "sea.displot(rdgfamily,bins=10,kde=True)\n",
    "mat.show()"
   ]
  },
  {
   "attachments": {},
   "cell_type": "markdown",
   "metadata": {},
   "source": [
    "### Top 10 Movies with Highest Gross Income in Dollar"
   ]
  },
  {
   "cell_type": "code",
   "execution_count": 11,
   "metadata": {},
   "outputs": [
    {
     "data": {
      "text/html": [
       "<div>\n",
       "<style scoped>\n",
       "    .dataframe tbody tr th:only-of-type {\n",
       "        vertical-align: middle;\n",
       "    }\n",
       "\n",
       "    .dataframe tbody tr th {\n",
       "        vertical-align: top;\n",
       "    }\n",
       "\n",
       "    .dataframe thead th {\n",
       "        text-align: right;\n",
       "    }\n",
       "</style>\n",
       "<table border=\"1\" class=\"dataframe\">\n",
       "  <thead>\n",
       "    <tr style=\"text-align: right;\">\n",
       "      <th></th>\n",
       "      <th>movie_name</th>\n",
       "      <th>year</th>\n",
       "      <th>gross(in $)</th>\n",
       "    </tr>\n",
       "  </thead>\n",
       "  <tbody>\n",
       "    <tr>\n",
       "      <th>108</th>\n",
       "      <td>Incredibles 2</td>\n",
       "      <td>2018</td>\n",
       "      <td>608581744.0</td>\n",
       "    </tr>\n",
       "    <tr>\n",
       "      <th>61</th>\n",
       "      <td>The Lion King</td>\n",
       "      <td>2019</td>\n",
       "      <td>543638043.0</td>\n",
       "    </tr>\n",
       "    <tr>\n",
       "      <th>52</th>\n",
       "      <td>Beauty and the Beast</td>\n",
       "      <td>2017</td>\n",
       "      <td>504014165.0</td>\n",
       "    </tr>\n",
       "    <tr>\n",
       "      <th>213</th>\n",
       "      <td>Finding Dory</td>\n",
       "      <td>2016</td>\n",
       "      <td>486295561.0</td>\n",
       "    </tr>\n",
       "    <tr>\n",
       "      <th>120</th>\n",
       "      <td>Frozen II</td>\n",
       "      <td>2019</td>\n",
       "      <td>477373578.0</td>\n",
       "    </tr>\n",
       "    <tr>\n",
       "      <th>58</th>\n",
       "      <td>Shrek 2</td>\n",
       "      <td>2004</td>\n",
       "      <td>436471036.0</td>\n",
       "    </tr>\n",
       "    <tr>\n",
       "      <th>65</th>\n",
       "      <td>E.T.</td>\n",
       "      <td>1982</td>\n",
       "      <td>435110554.0</td>\n",
       "    </tr>\n",
       "    <tr>\n",
       "      <th>62</th>\n",
       "      <td>Toy Story 4</td>\n",
       "      <td>2019</td>\n",
       "      <td>434038008.0</td>\n",
       "    </tr>\n",
       "    <tr>\n",
       "      <th>32</th>\n",
       "      <td>The Lion King</td>\n",
       "      <td>1994</td>\n",
       "      <td>422783777.0</td>\n",
       "    </tr>\n",
       "    <tr>\n",
       "      <th>107</th>\n",
       "      <td>Toy Story 3</td>\n",
       "      <td>2010</td>\n",
       "      <td>415004880.0</td>\n",
       "    </tr>\n",
       "  </tbody>\n",
       "</table>\n",
       "</div>"
      ],
      "text/plain": [
       "               movie_name  year  gross(in $)\n",
       "108         Incredibles 2  2018  608581744.0\n",
       "61          The Lion King  2019  543638043.0\n",
       "52   Beauty and the Beast  2017  504014165.0\n",
       "213          Finding Dory  2016  486295561.0\n",
       "120             Frozen II  2019  477373578.0\n",
       "58                Shrek 2  2004  436471036.0\n",
       "65                   E.T.  1982  435110554.0\n",
       "62            Toy Story 4  2019  434038008.0\n",
       "32          The Lion King  1994  422783777.0\n",
       "107           Toy Story 3  2010  415004880.0"
      ]
     },
     "execution_count": 11,
     "metadata": {},
     "output_type": "execute_result"
    }
   ],
   "source": [
    "familytopg= familydf.sort_values(by=['gross(in $)'],ascending=False)\n",
    "familytopg= familytopg[:10]\n",
    "familytopg[['movie_name','year','gross(in $)']]"
   ]
  },
  {
   "attachments": {},
   "cell_type": "markdown",
   "metadata": {},
   "source": [
    "#### Gross Incomes are missing on a large scale\n",
    "    -Therefore no USeful Prediction can be made with it\n",
    "\n",
    "#### There are Missing Values in:\n",
    "    - Certificates\n",
    "    - Rating\n",
    "    - Year\n",
    "    - Runtime\n",
    "    - Director and their ID\n",
    "    - Star and their ID\n",
    "    - Gross Income\n",
    "    - Votes\n",
    "    Therefore Analysis is according to Data Available\n"
   ]
  }
 ],
 "metadata": {
  "kernelspec": {
   "display_name": "Python 3",
   "language": "python",
   "name": "python3"
  },
  "language_info": {
   "codemirror_mode": {
    "name": "ipython",
    "version": 3
   },
   "file_extension": ".py",
   "mimetype": "text/x-python",
   "name": "python",
   "nbconvert_exporter": "python",
   "pygments_lexer": "ipython3",
   "version": "3.10.9"
  },
  "orig_nbformat": 4
 },
 "nbformat": 4,
 "nbformat_minor": 2
}
