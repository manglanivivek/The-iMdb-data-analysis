{
 "cells": [
  {
   "attachments": {},
   "cell_type": "markdown",
   "metadata": {},
   "source": [
    "# War Film Analysis"
   ]
  },
  {
   "attachments": {},
   "cell_type": "markdown",
   "metadata": {},
   "source": [
    "## Importing Libraries"
   ]
  },
  {
   "cell_type": "code",
   "execution_count": 1,
   "metadata": {},
   "outputs": [],
   "source": [
    "import pandas as pd\n",
    "import matplotlib.pyplot as mat\n",
    "import seaborn as sea\n",
    "import openpyxl\n",
    "import numpy as np"
   ]
  },
  {
   "attachments": {},
   "cell_type": "markdown",
   "metadata": {},
   "source": [
    "## Adding Files"
   ]
  },
  {
   "cell_type": "code",
   "execution_count": 2,
   "metadata": {},
   "outputs": [],
   "source": [
    "wardf = pd.read_csv('war.csv')"
   ]
  },
  {
   "attachments": {},
   "cell_type": "markdown",
   "metadata": {},
   "source": [
    "### Managing Indexes"
   ]
  },
  {
   "cell_type": "code",
   "execution_count": 3,
   "metadata": {},
   "outputs": [],
   "source": [
    "wardf.index +=1"
   ]
  },
  {
   "attachments": {},
   "cell_type": "markdown",
   "metadata": {},
   "source": [
    "### Genre Description"
   ]
  },
  {
   "attachments": {},
   "cell_type": "markdown",
   "metadata": {},
   "source": [
    "### Genre Information"
   ]
  },
  {
   "cell_type": "code",
   "execution_count": 4,
   "metadata": {},
   "outputs": [
    {
     "name": "stdout",
     "output_type": "stream",
     "text": [
      "<class 'pandas.core.frame.DataFrame'>\n",
      "RangeIndex: 9911 entries, 1 to 9911\n",
      "Data columns (total 14 columns):\n",
      " #   Column       Non-Null Count  Dtype  \n",
      "---  ------       --------------  -----  \n",
      " 0   movie_id     9911 non-null   object \n",
      " 1   movie_name   9911 non-null   object \n",
      " 2   year         9050 non-null   object \n",
      " 3   certificate  2754 non-null   object \n",
      " 4   runtime      7754 non-null   object \n",
      " 5   genre        9911 non-null   object \n",
      " 6   rating       7011 non-null   float64\n",
      " 7   description  9911 non-null   object \n",
      " 8   director     9379 non-null   object \n",
      " 9   director_id  9379 non-null   object \n",
      " 10  star         8847 non-null   object \n",
      " 11  star_id      8955 non-null   object \n",
      " 12  votes        7011 non-null   float64\n",
      " 13  gross(in $)  702 non-null    float64\n",
      "dtypes: float64(3), object(11)\n",
      "memory usage: 1.1+ MB\n"
     ]
    }
   ],
   "source": [
    "wardf.info()"
   ]
  },
  {
   "attachments": {},
   "cell_type": "markdown",
   "metadata": {},
   "source": [
    "### Statistial Description of Genre"
   ]
  },
  {
   "cell_type": "code",
   "execution_count": 5,
   "metadata": {},
   "outputs": [
    {
     "data": {
      "text/plain": [
       "count    7011.000000\n",
       "mean        6.294965\n",
       "std         1.131635\n",
       "min         1.000000\n",
       "25%         5.700000\n",
       "50%         6.400000\n",
       "75%         7.000000\n",
       "max         9.700000\n",
       "Name: rating, dtype: float64"
      ]
     },
     "execution_count": 5,
     "metadata": {},
     "output_type": "execute_result"
    }
   ],
   "source": [
    "wardf[\"rating\"].describe()"
   ]
  },
  {
   "attachments": {},
   "cell_type": "markdown",
   "metadata": {},
   "source": [
    "### Count of null values"
   ]
  },
  {
   "cell_type": "code",
   "execution_count": 6,
   "metadata": {},
   "outputs": [
    {
     "data": {
      "text/plain": [
       "movie_id          0\n",
       "movie_name        0\n",
       "year            861\n",
       "certificate    7157\n",
       "runtime        2157\n",
       "genre             0\n",
       "rating         2900\n",
       "description       0\n",
       "director        532\n",
       "director_id     532\n",
       "star           1064\n",
       "star_id         956\n",
       "votes          2900\n",
       "gross(in $)    9209\n",
       "dtype: int64"
      ]
     },
     "execution_count": 6,
     "metadata": {},
     "output_type": "execute_result"
    }
   ],
   "source": [
    "warnull = wardf.isna().sum()\n",
    "warnull"
   ]
  },
  {
   "attachments": {},
   "cell_type": "markdown",
   "metadata": {},
   "source": [
    "### Percentage of missing values"
   ]
  },
  {
   "cell_type": "code",
   "execution_count": 7,
   "metadata": {},
   "outputs": [
    {
     "data": {
      "text/plain": [
       "gross(in $)    92.916961\n",
       "certificate    72.212693\n",
       "rating         29.260418\n",
       "votes          29.260418\n",
       "runtime        21.763697\n",
       "star           10.735546\n",
       "star_id         9.645848\n",
       "year            8.687317\n",
       "director        5.367773\n",
       "director_id     5.367773\n",
       "movie_id        0.000000\n",
       "movie_name      0.000000\n",
       "genre           0.000000\n",
       "description     0.000000\n",
       "dtype: float64"
      ]
     },
     "execution_count": 7,
     "metadata": {},
     "output_type": "execute_result"
    }
   ],
   "source": [
    "warmiss = wardf.isna().sum().sort_values(ascending=False)*100/len(wardf)\n",
    "warmiss"
   ]
  },
  {
   "attachments": {},
   "cell_type": "markdown",
   "metadata": {},
   "source": [
    "### Missing Rating Ratio Graph"
   ]
  },
  {
   "cell_type": "code",
   "execution_count": 8,
   "metadata": {},
   "outputs": [
    {
     "data": {
      "image/png": "[encoded data removed]",
      "text/plain": [
       "<Figure size 640x480 with 1 Axes>"
      ]
     },
     "metadata": {},
     "output_type": "display_data"
    }
   ],
   "source": [
    "warratemiss = wardf[\"rating\"].isna().sum()\n",
    "warratepre = len(wardf) - warratemiss\n",
    "warratetage = [warratemiss,warratepre]\n",
    "labelact = [\"Not Available\", \"Available\"]\n",
    "mat.pie(warratetage, labels=labelact, autopct='%1.1f%%',\n",
    "        shadow=True, startangle=90)\n",
    "mat.show()"
   ]
  },
  {
   "attachments": {},
   "cell_type": "markdown",
   "metadata": {},
   "source": [
    "### Top 20 movies in terms of rating"
   ]
  },
  {
   "cell_type": "code",
   "execution_count": 9,
   "metadata": {},
   "outputs": [
    {
     "data": {
      "text/html": [
       "<div>\n",
       "<style scoped>\n",
       "    .dataframe tbody tr th:only-of-type {\n",
       "        vertical-align: middle;\n",
       "    }\n",
       "\n",
       "    .dataframe tbody tr th {\n",
       "        vertical-align: top;\n",
       "    }\n",
       "\n",
       "    .dataframe thead th {\n",
       "        text-align: right;\n",
       "    }\n",
       "</style>\n",
       "<table border=\"1\" class=\"dataframe\">\n",
       "  <thead>\n",
       "    <tr style=\"text-align: right;\">\n",
       "      <th></th>\n",
       "      <th>movie_name</th>\n",
       "      <th>year</th>\n",
       "      <th>rating</th>\n",
       "    </tr>\n",
       "  </thead>\n",
       "  <tbody>\n",
       "    <tr>\n",
       "      <th>3763</th>\n",
       "      <td>Real Emperor Kandanai Maneesawath</td>\n",
       "      <td>2022</td>\n",
       "      <td>9.7</td>\n",
       "    </tr>\n",
       "    <tr>\n",
       "      <th>2806</th>\n",
       "      <td>The Bed-Sitting Room</td>\n",
       "      <td>2016</td>\n",
       "      <td>9.6</td>\n",
       "    </tr>\n",
       "    <tr>\n",
       "      <th>3950</th>\n",
       "      <td>Yazh</td>\n",
       "      <td>2017</td>\n",
       "      <td>9.5</td>\n",
       "    </tr>\n",
       "    <tr>\n",
       "      <th>790</th>\n",
       "      <td>Kobane</td>\n",
       "      <td>2022</td>\n",
       "      <td>9.5</td>\n",
       "    </tr>\n",
       "    <tr>\n",
       "      <th>2314</th>\n",
       "      <td>Jibon Theke Neya</td>\n",
       "      <td>1970</td>\n",
       "      <td>9.3</td>\n",
       "    </tr>\n",
       "    <tr>\n",
       "      <th>6894</th>\n",
       "      <td>The Hutou Fortress: Bacteria</td>\n",
       "      <td>2010</td>\n",
       "      <td>9.2</td>\n",
       "    </tr>\n",
       "    <tr>\n",
       "      <th>6213</th>\n",
       "      <td>Di Xue De Hong Du Juan</td>\n",
       "      <td>2018</td>\n",
       "      <td>9.2</td>\n",
       "    </tr>\n",
       "    <tr>\n",
       "      <th>7489</th>\n",
       "      <td>W.I.A. Wounded in Action</td>\n",
       "      <td>1966</td>\n",
       "      <td>9.2</td>\n",
       "    </tr>\n",
       "    <tr>\n",
       "      <th>2334</th>\n",
       "      <td>Aguner Poroshmoni</td>\n",
       "      <td>1994</td>\n",
       "      <td>9.1</td>\n",
       "    </tr>\n",
       "    <tr>\n",
       "      <th>1785</th>\n",
       "      <td>La seconda via</td>\n",
       "      <td>2023</td>\n",
       "      <td>9.1</td>\n",
       "    </tr>\n",
       "    <tr>\n",
       "      <th>4485</th>\n",
       "      <td>Portugal: A Luta em Tempos de Crise!</td>\n",
       "      <td>2022</td>\n",
       "      <td>9.1</td>\n",
       "    </tr>\n",
       "    <tr>\n",
       "      <th>5325</th>\n",
       "      <td>Concerto</td>\n",
       "      <td>2008</td>\n",
       "      <td>9.0</td>\n",
       "    </tr>\n",
       "    <tr>\n",
       "      <th>1340</th>\n",
       "      <td>Sarsenapati Hambirrao</td>\n",
       "      <td>2022</td>\n",
       "      <td>9.0</td>\n",
       "    </tr>\n",
       "    <tr>\n",
       "      <th>5539</th>\n",
       "      <td>Berlin - Akkurgan</td>\n",
       "      <td>2018</td>\n",
       "      <td>9.0</td>\n",
       "    </tr>\n",
       "    <tr>\n",
       "      <th>4372</th>\n",
       "      <td>Ilhaq</td>\n",
       "      <td>2020</td>\n",
       "      <td>9.0</td>\n",
       "    </tr>\n",
       "    <tr>\n",
       "      <th>6961</th>\n",
       "      <td>Powder</td>\n",
       "      <td>1916</td>\n",
       "      <td>9.0</td>\n",
       "    </tr>\n",
       "    <tr>\n",
       "      <th>8473</th>\n",
       "      <td>Les enfants du diable</td>\n",
       "      <td>1992</td>\n",
       "      <td>9.0</td>\n",
       "    </tr>\n",
       "    <tr>\n",
       "      <th>5509</th>\n",
       "      <td>Lapu-Lapu</td>\n",
       "      <td>1955</td>\n",
       "      <td>9.0</td>\n",
       "    </tr>\n",
       "    <tr>\n",
       "      <th>3161</th>\n",
       "      <td>The Thundering 8th</td>\n",
       "      <td>2000</td>\n",
       "      <td>9.0</td>\n",
       "    </tr>\n",
       "    <tr>\n",
       "      <th>8053</th>\n",
       "      <td>Gurët e shtëpisë sime</td>\n",
       "      <td>1983</td>\n",
       "      <td>9.0</td>\n",
       "    </tr>\n",
       "  </tbody>\n",
       "</table>\n",
       "</div>"
      ],
      "text/plain": [
       "                                movie_name  year  rating\n",
       "3763     Real Emperor Kandanai Maneesawath  2022     9.7\n",
       "2806                  The Bed-Sitting Room  2016     9.6\n",
       "3950                                  Yazh  2017     9.5\n",
       "790                                 Kobane  2022     9.5\n",
       "2314                      Jibon Theke Neya  1970     9.3\n",
       "6894          The Hutou Fortress: Bacteria  2010     9.2\n",
       "6213                Di Xue De Hong Du Juan  2018     9.2\n",
       "7489              W.I.A. Wounded in Action  1966     9.2\n",
       "2334                     Aguner Poroshmoni  1994     9.1\n",
       "1785                        La seconda via  2023     9.1\n",
       "4485  Portugal: A Luta em Tempos de Crise!  2022     9.1\n",
       "5325                              Concerto  2008     9.0\n",
       "1340                 Sarsenapati Hambirrao  2022     9.0\n",
       "5539                     Berlin - Akkurgan  2018     9.0\n",
       "4372                                 Ilhaq  2020     9.0\n",
       "6961                                Powder  1916     9.0\n",
       "8473                 Les enfants du diable  1992     9.0\n",
       "5509                             Lapu-Lapu  1955     9.0\n",
       "3161                    The Thundering 8th  2000     9.0\n",
       "8053                 Gurët e shtëpisë sime  1983     9.0"
      ]
     },
     "execution_count": 9,
     "metadata": {},
     "output_type": "execute_result"
    }
   ],
   "source": [
    "wartop= wardf.sort_values(by=['rating'],ascending=False)\n",
    "wartop= wartop[:20]\n",
    "wartop[['movie_name','year','rating']]"
   ]
  },
  {
   "attachments": {},
   "cell_type": "markdown",
   "metadata": {},
   "source": [
    "### Rating Distribution Graph"
   ]
  },
  {
   "cell_type": "code",
   "execution_count": 10,
   "metadata": {},
   "outputs": [
    {
     "data": {
      "image/png": "[encoded data removed]",
      "text/plain": [
       "<Figure size 500x500 with 1 Axes>"
      ]
     },
     "metadata": {},
     "output_type": "display_data"
    }
   ],
   "source": [
    "rdgwar = wardf['rating']\n",
    "sea.displot(rdgwar,bins=10,kde=True)\n",
    "mat.show()"
   ]
  },
  {
   "attachments": {},
   "cell_type": "markdown",
   "metadata": {},
   "source": [
    "### Top 10 Movies with Highest Gross Income in Dollar"
   ]
  },
  {
   "cell_type": "code",
   "execution_count": 11,
   "metadata": {},
   "outputs": [
    {
     "data": {
      "text/html": [
       "<div>\n",
       "<style scoped>\n",
       "    .dataframe tbody tr th:only-of-type {\n",
       "        vertical-align: middle;\n",
       "    }\n",
       "\n",
       "    .dataframe tbody tr th {\n",
       "        vertical-align: top;\n",
       "    }\n",
       "\n",
       "    .dataframe thead th {\n",
       "        text-align: right;\n",
       "    }\n",
       "</style>\n",
       "<table border=\"1\" class=\"dataframe\">\n",
       "  <thead>\n",
       "    <tr style=\"text-align: right;\">\n",
       "      <th></th>\n",
       "      <th>movie_name</th>\n",
       "      <th>year</th>\n",
       "      <th>gross(in $)</th>\n",
       "    </tr>\n",
       "  </thead>\n",
       "  <tbody>\n",
       "    <tr>\n",
       "      <th>27</th>\n",
       "      <td>Wonder Woman</td>\n",
       "      <td>2017</td>\n",
       "      <td>412563408.0</td>\n",
       "    </tr>\n",
       "    <tr>\n",
       "      <th>57</th>\n",
       "      <td>American Sniper</td>\n",
       "      <td>2014</td>\n",
       "      <td>350126372.0</td>\n",
       "    </tr>\n",
       "    <tr>\n",
       "      <th>13</th>\n",
       "      <td>Saving Private Ryan</td>\n",
       "      <td>1998</td>\n",
       "      <td>216540909.0</td>\n",
       "    </tr>\n",
       "    <tr>\n",
       "      <th>37</th>\n",
       "      <td>Gone with the Wind</td>\n",
       "      <td>1939</td>\n",
       "      <td>198676459.0</td>\n",
       "    </tr>\n",
       "    <tr>\n",
       "      <th>38</th>\n",
       "      <td>Pearl Harbor</td>\n",
       "      <td>2001</td>\n",
       "      <td>198542554.0</td>\n",
       "    </tr>\n",
       "    <tr>\n",
       "      <th>7</th>\n",
       "      <td>Dunkirk</td>\n",
       "      <td>2017</td>\n",
       "      <td>188373161.0</td>\n",
       "    </tr>\n",
       "    <tr>\n",
       "      <th>67</th>\n",
       "      <td>Lincoln</td>\n",
       "      <td>2012</td>\n",
       "      <td>182207973.0</td>\n",
       "    </tr>\n",
       "    <tr>\n",
       "      <th>10</th>\n",
       "      <td>1917</td>\n",
       "      <td>2019</td>\n",
       "      <td>159227644.0</td>\n",
       "    </tr>\n",
       "    <tr>\n",
       "      <th>41</th>\n",
       "      <td>Platoon</td>\n",
       "      <td>1986</td>\n",
       "      <td>138530565.0</td>\n",
       "    </tr>\n",
       "    <tr>\n",
       "      <th>51</th>\n",
       "      <td>Lone Survivor</td>\n",
       "      <td>2013</td>\n",
       "      <td>125095601.0</td>\n",
       "    </tr>\n",
       "  </tbody>\n",
       "</table>\n",
       "</div>"
      ],
      "text/plain": [
       "             movie_name  year  gross(in $)\n",
       "27         Wonder Woman  2017  412563408.0\n",
       "57      American Sniper  2014  350126372.0\n",
       "13  Saving Private Ryan  1998  216540909.0\n",
       "37   Gone with the Wind  1939  198676459.0\n",
       "38         Pearl Harbor  2001  198542554.0\n",
       "7               Dunkirk  2017  188373161.0\n",
       "67              Lincoln  2012  182207973.0\n",
       "10                 1917  2019  159227644.0\n",
       "41              Platoon  1986  138530565.0\n",
       "51        Lone Survivor  2013  125095601.0"
      ]
     },
     "execution_count": 11,
     "metadata": {},
     "output_type": "execute_result"
    }
   ],
   "source": [
    "wartopg= wardf.sort_values(by=['gross(in $)'],ascending=False)\n",
    "wartopg= wartopg[:10]\n",
    "wartopg[['movie_name','year','gross(in $)']]"
   ]
  },
  {
   "attachments": {},
   "cell_type": "markdown",
   "metadata": {},
   "source": [
    "### Analysis of Genre"
   ]
  },
  {
   "attachments": {},
   "cell_type": "markdown",
   "metadata": {},
   "source": [
    "#### Gross Incomes are missing on a large scale\n",
    "    -Therefore no USeful Prediction can be made with it\n",
    "\n",
    "#### There are Missing Values in:\n",
    "    - Certificates\n",
    "    - Rating\n",
    "    - Year\n",
    "    - Runtime\n",
    "    - Director and their ID\n",
    "    - Star and their ID\n",
    "    - Gross Income\n",
    "    - Votes\n",
    "    Therefore Analysis is according to Data Available"
   ]
  }
 ],
 "metadata": {
  "kernelspec": {
   "display_name": "Python 3",
   "language": "python",
   "name": "python3"
  },
  "language_info": {
   "codemirror_mode": {
    "name": "ipython",
    "version": 3
   },
   "file_extension": ".py",
   "mimetype": "text/x-python",
   "name": "python",
   "nbconvert_exporter": "python",
   "pygments_lexer": "ipython3",
   "version": "3.10.9"
  },
  "orig_nbformat": 4
 },
 "nbformat": 4,
 "nbformat_minor": 2
}
