{
 "cells": [
  {
   "attachments": {},
   "cell_type": "markdown",
   "metadata": {},
   "source": [
    "# Horror Film Analysis"
   ]
  },
  {
   "attachments": {},
   "cell_type": "markdown",
   "metadata": {},
   "source": [
    "## Importing Libraries"
   ]
  },
  {
   "cell_type": "code",
   "execution_count": 1,
   "metadata": {},
   "outputs": [],
   "source": [
    "import pandas as pd\n",
    "import matplotlib.pyplot as mat\n",
    "import seaborn as sea\n",
    "import openpyxl\n",
    "import numpy as np"
   ]
  },
  {
   "attachments": {},
   "cell_type": "markdown",
   "metadata": {},
   "source": [
    "## Adding Files"
   ]
  },
  {
   "cell_type": "code",
   "execution_count": 2,
   "metadata": {},
   "outputs": [],
   "source": [
    "horrordf = pd.read_csv('horror.csv')"
   ]
  },
  {
   "attachments": {},
   "cell_type": "markdown",
   "metadata": {},
   "source": [
    "### Managing Indexes"
   ]
  },
  {
   "cell_type": "code",
   "execution_count": 3,
   "metadata": {},
   "outputs": [],
   "source": [
    "horrordf.index +=1"
   ]
  },
  {
   "attachments": {},
   "cell_type": "markdown",
   "metadata": {},
   "source": [
    "### Genre Description"
   ]
  },
  {
   "attachments": {},
   "cell_type": "markdown",
   "metadata": {},
   "source": [
    "### Genre Information"
   ]
  },
  {
   "cell_type": "code",
   "execution_count": 4,
   "metadata": {},
   "outputs": [
    {
     "name": "stdout",
     "output_type": "stream",
     "text": [
      "<class 'pandas.core.frame.DataFrame'>\n",
      "RangeIndex: 36682 entries, 1 to 36682\n",
      "Data columns (total 14 columns):\n",
      " #   Column       Non-Null Count  Dtype  \n",
      "---  ------       --------------  -----  \n",
      " 0   movie_id     36682 non-null  object \n",
      " 1   movie_name   36682 non-null  object \n",
      " 2   year         29091 non-null  object \n",
      " 3   certificate  9747 non-null   object \n",
      " 4   runtime      23362 non-null  object \n",
      " 5   genre        36682 non-null  object \n",
      " 6   rating       21159 non-null  float64\n",
      " 7   description  36682 non-null  object \n",
      " 8   director     33617 non-null  object \n",
      " 9   director_id  33617 non-null  object \n",
      " 10  star         29552 non-null  object \n",
      " 11  star_id      30328 non-null  object \n",
      " 12  votes        21159 non-null  float64\n",
      " 13  gross(in $)  1346 non-null   float64\n",
      "dtypes: float64(3), object(11)\n",
      "memory usage: 3.9+ MB\n"
     ]
    }
   ],
   "source": [
    "horrordf.info()"
   ]
  },
  {
   "attachments": {},
   "cell_type": "markdown",
   "metadata": {},
   "source": [
    "### Statistial Description of Genre"
   ]
  },
  {
   "cell_type": "code",
   "execution_count": 5,
   "metadata": {},
   "outputs": [
    {
     "data": {
      "text/plain": [
       "count    21159.000000\n",
       "mean         5.013337\n",
       "std          1.402012\n",
       "min          1.000000\n",
       "25%          4.000000\n",
       "50%          5.000000\n",
       "75%          6.000000\n",
       "max          9.700000\n",
       "Name: rating, dtype: float64"
      ]
     },
     "execution_count": 5,
     "metadata": {},
     "output_type": "execute_result"
    }
   ],
   "source": [
    "horrordf[\"rating\"].describe()"
   ]
  },
  {
   "attachments": {},
   "cell_type": "markdown",
   "metadata": {},
   "source": [
    "### Count of null values"
   ]
  },
  {
   "cell_type": "code",
   "execution_count": 6,
   "metadata": {},
   "outputs": [
    {
     "data": {
      "text/plain": [
       "movie_id           0\n",
       "movie_name         0\n",
       "year            7591\n",
       "certificate    26935\n",
       "runtime        13320\n",
       "genre              0\n",
       "rating         15523\n",
       "description        0\n",
       "director        3065\n",
       "director_id     3065\n",
       "star            7130\n",
       "star_id         6354\n",
       "votes          15523\n",
       "gross(in $)    35336\n",
       "dtype: int64"
      ]
     },
     "execution_count": 6,
     "metadata": {},
     "output_type": "execute_result"
    }
   ],
   "source": [
    "horrornull = horrordf.isna().sum()\n",
    "horrornull"
   ]
  },
  {
   "attachments": {},
   "cell_type": "markdown",
   "metadata": {},
   "source": [
    "### Percentage of missing values"
   ]
  },
  {
   "cell_type": "code",
   "execution_count": 7,
   "metadata": {},
   "outputs": [
    {
     "data": {
      "text/plain": [
       "gross(in $)    96.330625\n",
       "certificate    73.428384\n",
       "rating         42.317758\n",
       "votes          42.317758\n",
       "runtime        36.312088\n",
       "year           20.694073\n",
       "star           19.437326\n",
       "star_id        17.321847\n",
       "director        8.355597\n",
       "director_id     8.355597\n",
       "movie_id        0.000000\n",
       "movie_name      0.000000\n",
       "genre           0.000000\n",
       "description     0.000000\n",
       "dtype: float64"
      ]
     },
     "execution_count": 7,
     "metadata": {},
     "output_type": "execute_result"
    }
   ],
   "source": [
    "horrormiss = horrordf.isna().sum().sort_values(ascending=False)*100/len(horrordf)\n",
    "horrormiss"
   ]
  },
  {
   "attachments": {},
   "cell_type": "markdown",
   "metadata": {},
   "source": [
    "### Missing Rating Ratio Graph"
   ]
  },
  {
   "cell_type": "code",
   "execution_count": 8,
   "metadata": {},
   "outputs": [
    {
     "data": {
      "image/png": "[encoded data removed]",
      "text/plain": [
       "<Figure size 640x480 with 1 Axes>"
      ]
     },
     "metadata": {},
     "output_type": "display_data"
    }
   ],
   "source": [
    "horrorratemiss = horrordf[\"rating\"].isna().sum()\n",
    "horrorratepre = len(horrordf) - horrorratemiss\n",
    "horrorratetage = [horrorratemiss,horrorratepre]\n",
    "labelact = [\"Not Available\", \"Available\"]\n",
    "mat.pie(horrorratetage, labels=labelact, autopct='%1.1f%%',\n",
    "        shadow=True, startangle=90)\n",
    "mat.show()"
   ]
  },
  {
   "attachments": {},
   "cell_type": "markdown",
   "metadata": {},
   "source": [
    "### Top 20 movies in terms of rating"
   ]
  },
  {
   "cell_type": "code",
   "execution_count": 9,
   "metadata": {},
   "outputs": [
    {
     "data": {
      "text/html": [
       "<div>\n",
       "<style scoped>\n",
       "    .dataframe tbody tr th:only-of-type {\n",
       "        vertical-align: middle;\n",
       "    }\n",
       "\n",
       "    .dataframe tbody tr th {\n",
       "        vertical-align: top;\n",
       "    }\n",
       "\n",
       "    .dataframe thead th {\n",
       "        text-align: right;\n",
       "    }\n",
       "</style>\n",
       "<table border=\"1\" class=\"dataframe\">\n",
       "  <thead>\n",
       "    <tr style=\"text-align: right;\">\n",
       "      <th></th>\n",
       "      <th>movie_name</th>\n",
       "      <th>year</th>\n",
       "      <th>rating</th>\n",
       "    </tr>\n",
       "  </thead>\n",
       "  <tbody>\n",
       "    <tr>\n",
       "      <th>11886</th>\n",
       "      <td>December 24</td>\n",
       "      <td>2023</td>\n",
       "      <td>9.7</td>\n",
       "    </tr>\n",
       "    <tr>\n",
       "      <th>8030</th>\n",
       "      <td>Slaughter Beach</td>\n",
       "      <td>2022</td>\n",
       "      <td>9.6</td>\n",
       "    </tr>\n",
       "    <tr>\n",
       "      <th>10366</th>\n",
       "      <td>Heavy Makeup</td>\n",
       "      <td>2015</td>\n",
       "      <td>9.6</td>\n",
       "    </tr>\n",
       "    <tr>\n",
       "      <th>6323</th>\n",
       "      <td>WJHC AM</td>\n",
       "      <td>2022</td>\n",
       "      <td>9.6</td>\n",
       "    </tr>\n",
       "    <tr>\n",
       "      <th>17884</th>\n",
       "      <td>Girls on a Boat</td>\n",
       "      <td>2012</td>\n",
       "      <td>9.5</td>\n",
       "    </tr>\n",
       "    <tr>\n",
       "      <th>8346</th>\n",
       "      <td>Accept or Reject</td>\n",
       "      <td>2022</td>\n",
       "      <td>9.5</td>\n",
       "    </tr>\n",
       "    <tr>\n",
       "      <th>11705</th>\n",
       "      <td>Muttnik</td>\n",
       "      <td>2009</td>\n",
       "      <td>9.5</td>\n",
       "    </tr>\n",
       "    <tr>\n",
       "      <th>18816</th>\n",
       "      <td>Riyaa</td>\n",
       "      <td>2022</td>\n",
       "      <td>9.4</td>\n",
       "    </tr>\n",
       "    <tr>\n",
       "      <th>12761</th>\n",
       "      <td>Shards of Glass</td>\n",
       "      <td>2009</td>\n",
       "      <td>9.4</td>\n",
       "    </tr>\n",
       "    <tr>\n",
       "      <th>17883</th>\n",
       "      <td>Presa Nocturna</td>\n",
       "      <td>2022</td>\n",
       "      <td>9.4</td>\n",
       "    </tr>\n",
       "    <tr>\n",
       "      <th>11024</th>\n",
       "      <td>La otra magia</td>\n",
       "      <td>2016</td>\n",
       "      <td>9.4</td>\n",
       "    </tr>\n",
       "    <tr>\n",
       "      <th>14494</th>\n",
       "      <td>Cannibillies</td>\n",
       "      <td>2016</td>\n",
       "      <td>9.4</td>\n",
       "    </tr>\n",
       "    <tr>\n",
       "      <th>8300</th>\n",
       "      <td>Valentine Crush</td>\n",
       "      <td>2021</td>\n",
       "      <td>9.4</td>\n",
       "    </tr>\n",
       "    <tr>\n",
       "      <th>12151</th>\n",
       "      <td>Moksha</td>\n",
       "      <td>2022</td>\n",
       "      <td>9.3</td>\n",
       "    </tr>\n",
       "    <tr>\n",
       "      <th>6629</th>\n",
       "      <td>Sin Apple</td>\n",
       "      <td>2022</td>\n",
       "      <td>9.3</td>\n",
       "    </tr>\n",
       "    <tr>\n",
       "      <th>23634</th>\n",
       "      <td>Zombi Apocalipsis Sensuale</td>\n",
       "      <td>2013</td>\n",
       "      <td>9.3</td>\n",
       "    </tr>\n",
       "    <tr>\n",
       "      <th>3148</th>\n",
       "      <td>Backrooms: The Movie</td>\n",
       "      <td>2022</td>\n",
       "      <td>9.2</td>\n",
       "    </tr>\n",
       "    <tr>\n",
       "      <th>20370</th>\n",
       "      <td>Dark Ditties Presents 'Finders Keepers'</td>\n",
       "      <td>2018</td>\n",
       "      <td>9.2</td>\n",
       "    </tr>\n",
       "    <tr>\n",
       "      <th>15407</th>\n",
       "      <td>La Noche de la Bruja</td>\n",
       "      <td>2019</td>\n",
       "      <td>9.2</td>\n",
       "    </tr>\n",
       "    <tr>\n",
       "      <th>16200</th>\n",
       "      <td>Bukunja Tekunja Mitti: The Cannibals</td>\n",
       "      <td>2012</td>\n",
       "      <td>9.2</td>\n",
       "    </tr>\n",
       "  </tbody>\n",
       "</table>\n",
       "</div>"
      ],
      "text/plain": [
       "                                    movie_name  year  rating\n",
       "11886                              December 24  2023     9.7\n",
       "8030                           Slaughter Beach  2022     9.6\n",
       "10366                             Heavy Makeup  2015     9.6\n",
       "6323                                   WJHC AM  2022     9.6\n",
       "17884                          Girls on a Boat  2012     9.5\n",
       "8346                          Accept or Reject  2022     9.5\n",
       "11705                                  Muttnik  2009     9.5\n",
       "18816                                    Riyaa  2022     9.4\n",
       "12761                          Shards of Glass  2009     9.4\n",
       "17883                           Presa Nocturna  2022     9.4\n",
       "11024                            La otra magia  2016     9.4\n",
       "14494                             Cannibillies  2016     9.4\n",
       "8300                           Valentine Crush  2021     9.4\n",
       "12151                                   Moksha  2022     9.3\n",
       "6629                                 Sin Apple  2022     9.3\n",
       "23634               Zombi Apocalipsis Sensuale  2013     9.3\n",
       "3148                      Backrooms: The Movie  2022     9.2\n",
       "20370  Dark Ditties Presents 'Finders Keepers'  2018     9.2\n",
       "15407                     La Noche de la Bruja  2019     9.2\n",
       "16200     Bukunja Tekunja Mitti: The Cannibals  2012     9.2"
      ]
     },
     "execution_count": 9,
     "metadata": {},
     "output_type": "execute_result"
    }
   ],
   "source": [
    "horrortop= horrordf.sort_values(by=['rating'],ascending=False)\n",
    "horrortop= horrortop[:20]\n",
    "horrortop[['movie_name','year','rating']]"
   ]
  },
  {
   "attachments": {},
   "cell_type": "markdown",
   "metadata": {},
   "source": [
    "### Rating Distribution Graph"
   ]
  },
  {
   "cell_type": "code",
   "execution_count": 10,
   "metadata": {},
   "outputs": [
    {
     "data": {
      "image/png": "[encoded data removed]",
      "text/plain": [
       "<Figure size 500x500 with 1 Axes>"
      ]
     },
     "metadata": {},
     "output_type": "display_data"
    }
   ],
   "source": [
    "rdghorror = horrordf['rating']\n",
    "sea.displot(rdghorror,bins=10,kde=True)\n",
    "mat.show()"
   ]
  },
  {
   "attachments": {},
   "cell_type": "markdown",
   "metadata": {},
   "source": [
    "### Top 10 Movies with Highest Gross Income in Dollar"
   ]
  },
  {
   "cell_type": "code",
   "execution_count": 11,
   "metadata": {},
   "outputs": [
    {
     "data": {
      "text/html": [
       "<div>\n",
       "<style scoped>\n",
       "    .dataframe tbody tr th:only-of-type {\n",
       "        vertical-align: middle;\n",
       "    }\n",
       "\n",
       "    .dataframe tbody tr th {\n",
       "        vertical-align: top;\n",
       "    }\n",
       "\n",
       "    .dataframe thead th {\n",
       "        text-align: right;\n",
       "    }\n",
       "</style>\n",
       "<table border=\"1\" class=\"dataframe\">\n",
       "  <thead>\n",
       "    <tr style=\"text-align: right;\">\n",
       "      <th></th>\n",
       "      <th>movie_name</th>\n",
       "      <th>year</th>\n",
       "      <th>gross(in $)</th>\n",
       "    </tr>\n",
       "  </thead>\n",
       "  <tbody>\n",
       "    <tr>\n",
       "      <th>51</th>\n",
       "      <td>It</td>\n",
       "      <td>2017</td>\n",
       "      <td>327481748.0</td>\n",
       "    </tr>\n",
       "    <tr>\n",
       "      <th>150</th>\n",
       "      <td>I Am Legend</td>\n",
       "      <td>2007</td>\n",
       "      <td>256386216.0</td>\n",
       "    </tr>\n",
       "    <tr>\n",
       "      <th>96</th>\n",
       "      <td>The Exorcist</td>\n",
       "      <td>1973</td>\n",
       "      <td>232906145.0</td>\n",
       "    </tr>\n",
       "    <tr>\n",
       "      <th>166</th>\n",
       "      <td>It Chapter Two</td>\n",
       "      <td>2019</td>\n",
       "      <td>211593228.0</td>\n",
       "    </tr>\n",
       "    <tr>\n",
       "      <th>84</th>\n",
       "      <td>World War Z</td>\n",
       "      <td>2013</td>\n",
       "      <td>202359711.0</td>\n",
       "    </tr>\n",
       "    <tr>\n",
       "      <th>49</th>\n",
       "      <td>A Quiet Place</td>\n",
       "      <td>2018</td>\n",
       "      <td>188024361.0</td>\n",
       "    </tr>\n",
       "    <tr>\n",
       "      <th>31</th>\n",
       "      <td>Get Out</td>\n",
       "      <td>2017</td>\n",
       "      <td>176040665.0</td>\n",
       "    </tr>\n",
       "    <tr>\n",
       "      <th>64</th>\n",
       "      <td>Us</td>\n",
       "      <td>2019</td>\n",
       "      <td>175084580.0</td>\n",
       "    </tr>\n",
       "    <tr>\n",
       "      <th>622</th>\n",
       "      <td>Hotel Transylvania 2</td>\n",
       "      <td>2015</td>\n",
       "      <td>169700110.0</td>\n",
       "    </tr>\n",
       "    <tr>\n",
       "      <th>594</th>\n",
       "      <td>Hotel Transylvania 3: Summer Vacation</td>\n",
       "      <td>2018</td>\n",
       "      <td>167510016.0</td>\n",
       "    </tr>\n",
       "  </tbody>\n",
       "</table>\n",
       "</div>"
      ],
      "text/plain": [
       "                                movie_name  year  gross(in $)\n",
       "51                                      It  2017  327481748.0\n",
       "150                            I Am Legend  2007  256386216.0\n",
       "96                            The Exorcist  1973  232906145.0\n",
       "166                         It Chapter Two  2019  211593228.0\n",
       "84                             World War Z  2013  202359711.0\n",
       "49                           A Quiet Place  2018  188024361.0\n",
       "31                                 Get Out  2017  176040665.0\n",
       "64                                      Us  2019  175084580.0\n",
       "622                   Hotel Transylvania 2  2015  169700110.0\n",
       "594  Hotel Transylvania 3: Summer Vacation  2018  167510016.0"
      ]
     },
     "execution_count": 11,
     "metadata": {},
     "output_type": "execute_result"
    }
   ],
   "source": [
    "horrortopg= horrordf.sort_values(by=['gross(in $)'],ascending=False)\n",
    "horrortopg= horrortopg[:10]\n",
    "horrortopg[['movie_name','year','gross(in $)']]"
   ]
  },
  {
   "attachments": {},
   "cell_type": "markdown",
   "metadata": {},
   "source": [
    "### Analysis of Genre"
   ]
  },
  {
   "attachments": {},
   "cell_type": "markdown",
   "metadata": {},
   "source": [
    "#### Gross Incomes are missing on a large scale\n",
    "    -Therefore no USeful Prediction can be made with it\n",
    "\n",
    "#### There are Missing Values in:\n",
    "    - Certificates\n",
    "    - Rating\n",
    "    - Year\n",
    "    - Runtime\n",
    "    - Director and their ID\n",
    "    - Star and their ID\n",
    "    - Gross Income\n",
    "    - Votes\n",
    "    Therefore Analysis is according to Data Available"
   ]
  }
 ],
 "metadata": {
  "kernelspec": {
   "display_name": "Python 3",
   "language": "python",
   "name": "python3"
  },
  "language_info": {
   "codemirror_mode": {
    "name": "ipython",
    "version": 3
   },
   "file_extension": ".py",
   "mimetype": "text/x-python",
   "name": "python",
   "nbconvert_exporter": "python",
   "pygments_lexer": "ipython3",
   "version": "3.10.9"
  },
  "orig_nbformat": 4
 },
 "nbformat": 4,
 "nbformat_minor": 2
}
