{
 "cells": [
  {
   "attachments": {},
   "cell_type": "markdown",
   "metadata": {},
   "source": [
    "# Sports Film Analysis"
   ]
  },
  {
   "attachments": {},
   "cell_type": "markdown",
   "metadata": {},
   "source": [
    "## Importing Libraries"
   ]
  },
  {
   "cell_type": "code",
   "execution_count": 1,
   "metadata": {},
   "outputs": [],
   "source": [
    "import pandas as pd\n",
    "import matplotlib.pyplot as mat\n",
    "import seaborn as sea\n",
    "import openpyxl\n",
    "import numpy as np"
   ]
  },
  {
   "attachments": {},
   "cell_type": "markdown",
   "metadata": {},
   "source": [
    "## Adding Files"
   ]
  },
  {
   "cell_type": "code",
   "execution_count": 2,
   "metadata": {},
   "outputs": [],
   "source": [
    "sportsdf = pd.read_csv('sports.csv')"
   ]
  },
  {
   "attachments": {},
   "cell_type": "markdown",
   "metadata": {},
   "source": [
    "### Managing Indexes"
   ]
  },
  {
   "cell_type": "code",
   "execution_count": 3,
   "metadata": {},
   "outputs": [],
   "source": [
    "sportsdf.index +=1"
   ]
  },
  {
   "attachments": {},
   "cell_type": "markdown",
   "metadata": {},
   "source": [
    "### Genre Description"
   ]
  },
  {
   "attachments": {},
   "cell_type": "markdown",
   "metadata": {},
   "source": [
    "### Genre Information"
   ]
  },
  {
   "cell_type": "code",
   "execution_count": 4,
   "metadata": {},
   "outputs": [
    {
     "name": "stdout",
     "output_type": "stream",
     "text": [
      "<class 'pandas.core.frame.DataFrame'>\n",
      "RangeIndex: 5292 entries, 1 to 5292\n",
      "Data columns (total 14 columns):\n",
      " #   Column       Non-Null Count  Dtype  \n",
      "---  ------       --------------  -----  \n",
      " 0   movie_id     5292 non-null   object \n",
      " 1   movie_name   5292 non-null   object \n",
      " 2   year         4717 non-null   object \n",
      " 3   certificate  709 non-null    object \n",
      " 4   runtime      3822 non-null   object \n",
      " 5   genre        5292 non-null   object \n",
      " 6   rating       2743 non-null   float64\n",
      " 7   description  5292 non-null   object \n",
      " 8   director     4378 non-null   object \n",
      " 9   director_id  4378 non-null   object \n",
      " 10  star         3714 non-null   object \n",
      " 11  star_id      3958 non-null   object \n",
      " 12  votes        2743 non-null   float64\n",
      " 13  gross(in $)  478 non-null    float64\n",
      "dtypes: float64(3), object(11)\n",
      "memory usage: 578.9+ KB\n"
     ]
    }
   ],
   "source": [
    "sportsdf.info()"
   ]
  },
  {
   "attachments": {},
   "cell_type": "markdown",
   "metadata": {},
   "source": [
    "### Statistial Description of Genre"
   ]
  },
  {
   "cell_type": "code",
   "execution_count": 5,
   "metadata": {},
   "outputs": [
    {
     "data": {
      "text/plain": [
       "count    2743.000000\n",
       "mean        6.090011\n",
       "std         1.223992\n",
       "min         1.000000\n",
       "25%         5.400000\n",
       "50%         6.200000\n",
       "75%         6.900000\n",
       "max         9.700000\n",
       "Name: rating, dtype: float64"
      ]
     },
     "execution_count": 5,
     "metadata": {},
     "output_type": "execute_result"
    }
   ],
   "source": [
    "sportsdf[\"rating\"].describe()"
   ]
  },
  {
   "attachments": {},
   "cell_type": "markdown",
   "metadata": {},
   "source": [
    "### Count of null values"
   ]
  },
  {
   "cell_type": "code",
   "execution_count": 6,
   "metadata": {},
   "outputs": [
    {
     "data": {
      "text/plain": [
       "movie_id          0\n",
       "movie_name        0\n",
       "year            575\n",
       "certificate    4583\n",
       "runtime        1470\n",
       "genre             0\n",
       "rating         2549\n",
       "description       0\n",
       "director        914\n",
       "director_id     914\n",
       "star           1578\n",
       "star_id        1334\n",
       "votes          2549\n",
       "gross(in $)    4814\n",
       "dtype: int64"
      ]
     },
     "execution_count": 6,
     "metadata": {},
     "output_type": "execute_result"
    }
   ],
   "source": [
    "sportsnull = sportsdf.isna().sum()\n",
    "sportsnull"
   ]
  },
  {
   "attachments": {},
   "cell_type": "markdown",
   "metadata": {},
   "source": [
    "### Percentage of missing values"
   ]
  },
  {
   "cell_type": "code",
   "execution_count": 7,
   "metadata": {},
   "outputs": [
    {
     "data": {
      "text/plain": [
       "gross(in $)    90.967498\n",
       "certificate    86.602419\n",
       "rating         48.167045\n",
       "votes          48.167045\n",
       "star           29.818594\n",
       "runtime        27.777778\n",
       "star_id        25.207861\n",
       "director       17.271353\n",
       "director_id    17.271353\n",
       "year           10.865457\n",
       "movie_id        0.000000\n",
       "movie_name      0.000000\n",
       "genre           0.000000\n",
       "description     0.000000\n",
       "dtype: float64"
      ]
     },
     "execution_count": 7,
     "metadata": {},
     "output_type": "execute_result"
    }
   ],
   "source": [
    "sportsmiss = sportsdf.isna().sum().sort_values(ascending=False)*100/len(sportsdf)\n",
    "sportsmiss"
   ]
  },
  {
   "attachments": {},
   "cell_type": "markdown",
   "metadata": {},
   "source": [
    "### Missing Rating Ratio Graph"
   ]
  },
  {
   "cell_type": "code",
   "execution_count": 8,
   "metadata": {},
   "outputs": [
    {
     "data": {
      "image/png": "[encoded data removed]",
      "text/plain": [
       "<Figure size 640x480 with 1 Axes>"
      ]
     },
     "metadata": {},
     "output_type": "display_data"
    }
   ],
   "source": [
    "sportsratemiss = sportsdf[\"rating\"].isna().sum()\n",
    "sportsratepre = len(sportsdf) - sportsratemiss\n",
    "sportsratetage = [sportsratemiss,sportsratepre]\n",
    "labelact = [\"Not Available\", \"Available\"]\n",
    "mat.pie(sportsratetage, labels=labelact, autopct='%1.1f%%',\n",
    "        shadow=True, startangle=90)\n",
    "mat.show()"
   ]
  },
  {
   "attachments": {},
   "cell_type": "markdown",
   "metadata": {},
   "source": [
    "### Top 20 movies in terms of rating"
   ]
  },
  {
   "cell_type": "code",
   "execution_count": 9,
   "metadata": {},
   "outputs": [
    {
     "data": {
      "text/html": [
       "<div>\n",
       "<style scoped>\n",
       "    .dataframe tbody tr th:only-of-type {\n",
       "        vertical-align: middle;\n",
       "    }\n",
       "\n",
       "    .dataframe tbody tr th {\n",
       "        vertical-align: top;\n",
       "    }\n",
       "\n",
       "    .dataframe thead th {\n",
       "        text-align: right;\n",
       "    }\n",
       "</style>\n",
       "<table border=\"1\" class=\"dataframe\">\n",
       "  <thead>\n",
       "    <tr style=\"text-align: right;\">\n",
       "      <th></th>\n",
       "      <th>movie_name</th>\n",
       "      <th>year</th>\n",
       "      <th>rating</th>\n",
       "    </tr>\n",
       "  </thead>\n",
       "  <tbody>\n",
       "    <tr>\n",
       "      <th>1838</th>\n",
       "      <td>Monsoon Football</td>\n",
       "      <td>2019</td>\n",
       "      <td>9.7</td>\n",
       "    </tr>\n",
       "    <tr>\n",
       "      <th>2549</th>\n",
       "      <td>Mosallas-e abi</td>\n",
       "      <td>2000</td>\n",
       "      <td>9.7</td>\n",
       "    </tr>\n",
       "    <tr>\n",
       "      <th>4614</th>\n",
       "      <td>Beer Pong Trilogy</td>\n",
       "      <td>2009</td>\n",
       "      <td>9.6</td>\n",
       "    </tr>\n",
       "    <tr>\n",
       "      <th>1867</th>\n",
       "      <td>La Grande Guerra del Salento</td>\n",
       "      <td>2022</td>\n",
       "      <td>9.6</td>\n",
       "    </tr>\n",
       "    <tr>\n",
       "      <th>4416</th>\n",
       "      <td>HSBC Champions WGC Official Film</td>\n",
       "      <td>2009</td>\n",
       "      <td>9.6</td>\n",
       "    </tr>\n",
       "    <tr>\n",
       "      <th>3040</th>\n",
       "      <td>Prime Wake Movie</td>\n",
       "      <td>2014</td>\n",
       "      <td>9.4</td>\n",
       "    </tr>\n",
       "    <tr>\n",
       "      <th>3337</th>\n",
       "      <td>Dance Dance Revolution: The Warrior's Path</td>\n",
       "      <td>2011</td>\n",
       "      <td>9.4</td>\n",
       "    </tr>\n",
       "    <tr>\n",
       "      <th>3322</th>\n",
       "      <td>Acqua fuori dal ring</td>\n",
       "      <td>2012</td>\n",
       "      <td>9.3</td>\n",
       "    </tr>\n",
       "    <tr>\n",
       "      <th>2185</th>\n",
       "      <td>62,000:1 Three Teams One City One Year</td>\n",
       "      <td>2019</td>\n",
       "      <td>9.2</td>\n",
       "    </tr>\n",
       "    <tr>\n",
       "      <th>1758</th>\n",
       "      <td>WWE: Paige - Iconic Matches</td>\n",
       "      <td>2019</td>\n",
       "      <td>9.2</td>\n",
       "    </tr>\n",
       "    <tr>\n",
       "      <th>899</th>\n",
       "      <td>Sidemen Charity Match 2022 (Sidemen FC VS Yout...</td>\n",
       "      <td>2022</td>\n",
       "      <td>9.2</td>\n",
       "    </tr>\n",
       "    <tr>\n",
       "      <th>2313</th>\n",
       "      <td>Win Marathon</td>\n",
       "      <td>2018</td>\n",
       "      <td>9.1</td>\n",
       "    </tr>\n",
       "    <tr>\n",
       "      <th>3018</th>\n",
       "      <td>Stingers Rule!</td>\n",
       "      <td>2009</td>\n",
       "      <td>9.1</td>\n",
       "    </tr>\n",
       "    <tr>\n",
       "      <th>1641</th>\n",
       "      <td>13th and Pine</td>\n",
       "      <td>2022</td>\n",
       "      <td>9.1</td>\n",
       "    </tr>\n",
       "    <tr>\n",
       "      <th>3260</th>\n",
       "      <td>From Faith to Freedom</td>\n",
       "      <td>2012</td>\n",
       "      <td>9.1</td>\n",
       "    </tr>\n",
       "    <tr>\n",
       "      <th>1571</th>\n",
       "      <td>Doda</td>\n",
       "      <td>2022</td>\n",
       "      <td>9.0</td>\n",
       "    </tr>\n",
       "    <tr>\n",
       "      <th>2994</th>\n",
       "      <td>A Killer Serve</td>\n",
       "      <td>2015</td>\n",
       "      <td>9.0</td>\n",
       "    </tr>\n",
       "    <tr>\n",
       "      <th>2911</th>\n",
       "      <td>Heel Kick!</td>\n",
       "      <td>2018</td>\n",
       "      <td>9.0</td>\n",
       "    </tr>\n",
       "    <tr>\n",
       "      <th>2919</th>\n",
       "      <td>LA Underground</td>\n",
       "      <td>2012</td>\n",
       "      <td>9.0</td>\n",
       "    </tr>\n",
       "    <tr>\n",
       "      <th>2150</th>\n",
       "      <td>This Is Home</td>\n",
       "      <td>2017</td>\n",
       "      <td>9.0</td>\n",
       "    </tr>\n",
       "  </tbody>\n",
       "</table>\n",
       "</div>"
      ],
      "text/plain": [
       "                                             movie_name  year  rating\n",
       "1838                                   Monsoon Football  2019     9.7\n",
       "2549                                     Mosallas-e abi  2000     9.7\n",
       "4614                                  Beer Pong Trilogy  2009     9.6\n",
       "1867                       La Grande Guerra del Salento  2022     9.6\n",
       "4416                   HSBC Champions WGC Official Film  2009     9.6\n",
       "3040                                   Prime Wake Movie  2014     9.4\n",
       "3337         Dance Dance Revolution: The Warrior's Path  2011     9.4\n",
       "3322                               Acqua fuori dal ring  2012     9.3\n",
       "2185             62,000:1 Three Teams One City One Year  2019     9.2\n",
       "1758                        WWE: Paige - Iconic Matches  2019     9.2\n",
       "899   Sidemen Charity Match 2022 (Sidemen FC VS Yout...  2022     9.2\n",
       "2313                                       Win Marathon  2018     9.1\n",
       "3018                                     Stingers Rule!  2009     9.1\n",
       "1641                                      13th and Pine  2022     9.1\n",
       "3260                              From Faith to Freedom  2012     9.1\n",
       "1571                                               Doda  2022     9.0\n",
       "2994                                     A Killer Serve  2015     9.0\n",
       "2911                                         Heel Kick!  2018     9.0\n",
       "2919                                     LA Underground  2012     9.0\n",
       "2150                                       This Is Home  2017     9.0"
      ]
     },
     "execution_count": 9,
     "metadata": {},
     "output_type": "execute_result"
    }
   ],
   "source": [
    "sportstop= sportsdf.sort_values(by=['rating'],ascending=False)\n",
    "sportstop= sportstop[:20]\n",
    "sportstop[['movie_name','year','rating']]"
   ]
  },
  {
   "attachments": {},
   "cell_type": "markdown",
   "metadata": {},
   "source": [
    "### Rating Distribution Graph"
   ]
  },
  {
   "cell_type": "code",
   "execution_count": 10,
   "metadata": {},
   "outputs": [
    {
     "data": {
      "image/png": "[encoded data removed]",
      "text/plain": [
       "<Figure size 500x500 with 1 Axes>"
      ]
     },
     "metadata": {},
     "output_type": "display_data"
    }
   ],
   "source": [
    "rdgsports = sportsdf['rating']\n",
    "sea.displot(rdgsports,bins=10,kde=True)\n",
    "mat.show()"
   ]
  },
  {
   "attachments": {},
   "cell_type": "markdown",
   "metadata": {},
   "source": [
    "### Top 10 Movies with Highest Gross Income in Dollar"
   ]
  },
  {
   "cell_type": "code",
   "execution_count": 11,
   "metadata": {},
   "outputs": [
    {
     "data": {
      "text/html": [
       "<div>\n",
       "<style scoped>\n",
       "    .dataframe tbody tr th:only-of-type {\n",
       "        vertical-align: middle;\n",
       "    }\n",
       "\n",
       "    .dataframe tbody tr th {\n",
       "        vertical-align: top;\n",
       "    }\n",
       "\n",
       "    .dataframe thead th {\n",
       "        text-align: right;\n",
       "    }\n",
       "</style>\n",
       "<table border=\"1\" class=\"dataframe\">\n",
       "  <thead>\n",
       "    <tr style=\"text-align: right;\">\n",
       "      <th></th>\n",
       "      <th>movie_name</th>\n",
       "      <th>year</th>\n",
       "      <th>gross(in $)</th>\n",
       "    </tr>\n",
       "  </thead>\n",
       "  <tbody>\n",
       "    <tr>\n",
       "      <th>22</th>\n",
       "      <td>The Blind Side</td>\n",
       "      <td>2009</td>\n",
       "      <td>255959475.0</td>\n",
       "    </tr>\n",
       "    <tr>\n",
       "      <th>8</th>\n",
       "      <td>Cars</td>\n",
       "      <td>2006</td>\n",
       "      <td>244082982.0</td>\n",
       "    </tr>\n",
       "    <tr>\n",
       "      <th>61</th>\n",
       "      <td>Cars 2</td>\n",
       "      <td>2011</td>\n",
       "      <td>191452396.0</td>\n",
       "    </tr>\n",
       "    <tr>\n",
       "      <th>63</th>\n",
       "      <td>The Karate Kid</td>\n",
       "      <td>2010</td>\n",
       "      <td>176591618.0</td>\n",
       "    </tr>\n",
       "    <tr>\n",
       "      <th>32</th>\n",
       "      <td>The Waterboy</td>\n",
       "      <td>1998</td>\n",
       "      <td>161491646.0</td>\n",
       "    </tr>\n",
       "    <tr>\n",
       "      <th>12</th>\n",
       "      <td>The Longest Yard</td>\n",
       "      <td>2005</td>\n",
       "      <td>158119460.0</td>\n",
       "    </tr>\n",
       "    <tr>\n",
       "      <th>15</th>\n",
       "      <td>Jerry Maguire</td>\n",
       "      <td>1996</td>\n",
       "      <td>153952592.0</td>\n",
       "    </tr>\n",
       "    <tr>\n",
       "      <th>76</th>\n",
       "      <td>Cars 3</td>\n",
       "      <td>2017</td>\n",
       "      <td>152901115.0</td>\n",
       "    </tr>\n",
       "    <tr>\n",
       "      <th>21</th>\n",
       "      <td>Talladega Nights: The Ballad of Ricky Bobby</td>\n",
       "      <td>2006</td>\n",
       "      <td>148213377.0</td>\n",
       "    </tr>\n",
       "    <tr>\n",
       "      <th>33</th>\n",
       "      <td>Rocky IV</td>\n",
       "      <td>1985</td>\n",
       "      <td>127873716.0</td>\n",
       "    </tr>\n",
       "  </tbody>\n",
       "</table>\n",
       "</div>"
      ],
      "text/plain": [
       "                                     movie_name  year  gross(in $)\n",
       "22                               The Blind Side  2009  255959475.0\n",
       "8                                          Cars  2006  244082982.0\n",
       "61                                       Cars 2  2011  191452396.0\n",
       "63                               The Karate Kid  2010  176591618.0\n",
       "32                                 The Waterboy  1998  161491646.0\n",
       "12                             The Longest Yard  2005  158119460.0\n",
       "15                                Jerry Maguire  1996  153952592.0\n",
       "76                                       Cars 3  2017  152901115.0\n",
       "21  Talladega Nights: The Ballad of Ricky Bobby  2006  148213377.0\n",
       "33                                     Rocky IV  1985  127873716.0"
      ]
     },
     "execution_count": 11,
     "metadata": {},
     "output_type": "execute_result"
    }
   ],
   "source": [
    "sportstopg= sportsdf.sort_values(by=['gross(in $)'],ascending=False)\n",
    "sportstopg= sportstopg[:10]\n",
    "sportstopg[['movie_name','year','gross(in $)']]"
   ]
  },
  {
   "attachments": {},
   "cell_type": "markdown",
   "metadata": {},
   "source": [
    "### Analysis of Genre"
   ]
  },
  {
   "attachments": {},
   "cell_type": "markdown",
   "metadata": {},
   "source": [
    "#### Gross Incomes are missing on a large scale\n",
    "    -Therefore no USeful Prediction can be made with it\n",
    "\n",
    "#### There are Missing Values in:\n",
    "    - Certificates\n",
    "    - Rating\n",
    "    - Year\n",
    "    - Runtime\n",
    "    - Director and their ID\n",
    "    - Star and their ID\n",
    "    - Gross Income\n",
    "    - Votes\n",
    "    Therefore Analysis is according to Data Available"
   ]
  }
 ],
 "metadata": {
  "kernelspec": {
   "display_name": "Python 3",
   "language": "python",
   "name": "python3"
  },
  "language_info": {
   "codemirror_mode": {
    "name": "ipython",
    "version": 3
   },
   "file_extension": ".py",
   "mimetype": "text/x-python",
   "name": "python",
   "nbconvert_exporter": "python",
   "pygments_lexer": "ipython3",
   "version": "3.10.9"
  },
  "orig_nbformat": 4
 },
 "nbformat": 4,
 "nbformat_minor": 2
}
