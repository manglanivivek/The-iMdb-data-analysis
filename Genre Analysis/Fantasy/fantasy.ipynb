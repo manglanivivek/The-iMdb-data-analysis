{
 "cells": [
  {
   "attachments": {},
   "cell_type": "markdown",
   "metadata": {},
   "source": [
    "# Fantasy Film Analysis"
   ]
  },
  {
   "attachments": {},
   "cell_type": "markdown",
   "metadata": {},
   "source": [
    "## Importing Libraries"
   ]
  },
  {
   "cell_type": "code",
   "execution_count": 9,
   "metadata": {},
   "outputs": [],
   "source": [
    "import pandas as pd\n",
    "import matplotlib.pyplot as mat\n",
    "import seaborn as sea\n",
    "import openpyxl\n",
    "import numpy as np"
   ]
  },
  {
   "attachments": {},
   "cell_type": "markdown",
   "metadata": {},
   "source": [
    "## Adding File"
   ]
  },
  {
   "cell_type": "code",
   "execution_count": 10,
   "metadata": {},
   "outputs": [],
   "source": [
    "fantasydf = pd.read_csv(\"fantasy.csv\")"
   ]
  },
  {
   "attachments": {},
   "cell_type": "markdown",
   "metadata": {},
   "source": [
    "## Managing Indexes"
   ]
  },
  {
   "cell_type": "code",
   "execution_count": 11,
   "metadata": {},
   "outputs": [],
   "source": [
    "fantasydf.index +=1"
   ]
  },
  {
   "attachments": {},
   "cell_type": "markdown",
   "metadata": {},
   "source": [
    "### Genre Description"
   ]
  },
  {
   "attachments": {},
   "cell_type": "markdown",
   "metadata": {},
   "source": [
    "### Genre Information"
   ]
  },
  {
   "cell_type": "code",
   "execution_count": 12,
   "metadata": {},
   "outputs": [
    {
     "name": "stdout",
     "output_type": "stream",
     "text": [
      "<class 'pandas.core.frame.DataFrame'>\n",
      "RangeIndex: 17163 entries, 1 to 17163\n",
      "Data columns (total 14 columns):\n",
      " #   Column       Non-Null Count  Dtype  \n",
      "---  ------       --------------  -----  \n",
      " 0   movie_id     17163 non-null  object \n",
      " 1   movie_name   17163 non-null  object \n",
      " 2   year         14349 non-null  object \n",
      " 3   certificate  4463 non-null   object \n",
      " 4   runtime      12003 non-null  object \n",
      " 5   genre        17163 non-null  object \n",
      " 6   rating       10447 non-null  float64\n",
      " 7   description  17163 non-null  object \n",
      " 8   director     15728 non-null  object \n",
      " 9   director_id  15728 non-null  object \n",
      " 10  star         14128 non-null  object \n",
      " 11  star_id      14476 non-null  object \n",
      " 12  votes        10447 non-null  float64\n",
      " 13  gross(in $)  1410 non-null   float64\n",
      "dtypes: float64(3), object(11)\n",
      "memory usage: 1.8+ MB\n"
     ]
    }
   ],
   "source": [
    "fantasydf.info()"
   ]
  },
  {
   "attachments": {},
   "cell_type": "markdown",
   "metadata": {},
   "source": [
    "### Statistial Description of Genre"
   ]
  },
  {
   "cell_type": "code",
   "execution_count": 13,
   "metadata": {},
   "outputs": [
    {
     "data": {
      "text/plain": [
       "count    10447.000000\n",
       "mean         5.923586\n",
       "std          1.324622\n",
       "min          1.000000\n",
       "25%          5.200000\n",
       "50%          6.100000\n",
       "75%          6.800000\n",
       "max          9.900000\n",
       "Name: rating, dtype: float64"
      ]
     },
     "execution_count": 13,
     "metadata": {},
     "output_type": "execute_result"
    }
   ],
   "source": [
    "fantasydf[\"rating\"].describe()"
   ]
  },
  {
   "attachments": {},
   "cell_type": "markdown",
   "metadata": {},
   "source": [
    "### Count of null values"
   ]
  },
  {
   "cell_type": "code",
   "execution_count": 14,
   "metadata": {},
   "outputs": [
    {
     "data": {
      "text/plain": [
       "movie_id           0\n",
       "movie_name         0\n",
       "year            2814\n",
       "certificate    12700\n",
       "runtime         5160\n",
       "genre              0\n",
       "rating          6716\n",
       "description        0\n",
       "director        1435\n",
       "director_id     1435\n",
       "star            3035\n",
       "star_id         2687\n",
       "votes           6716\n",
       "gross(in $)    15753\n",
       "dtype: int64"
      ]
     },
     "execution_count": 14,
     "metadata": {},
     "output_type": "execute_result"
    }
   ],
   "source": [
    "fantasynull = fantasydf.isna().sum()\n",
    "fantasynull"
   ]
  },
  {
   "attachments": {},
   "cell_type": "markdown",
   "metadata": {},
   "source": [
    "### Percentage of missing values"
   ]
  },
  {
   "cell_type": "code",
   "execution_count": 15,
   "metadata": {},
   "outputs": [
    {
     "data": {
      "text/plain": [
       "gross(in $)    91.784653\n",
       "certificate    73.996388\n",
       "rating         39.130688\n",
       "votes          39.130688\n",
       "runtime        30.064674\n",
       "star           17.683389\n",
       "year           16.395735\n",
       "star_id        15.655771\n",
       "director        8.361009\n",
       "director_id     8.361009\n",
       "movie_id        0.000000\n",
       "movie_name      0.000000\n",
       "genre           0.000000\n",
       "description     0.000000\n",
       "dtype: float64"
      ]
     },
     "execution_count": 15,
     "metadata": {},
     "output_type": "execute_result"
    }
   ],
   "source": [
    "fantasymiss = fantasydf.isna().sum().sort_values(ascending=False)*100/len(fantasydf)\n",
    "fantasymiss"
   ]
  },
  {
   "attachments": {},
   "cell_type": "markdown",
   "metadata": {},
   "source": [
    "### Missing Rating Ratio Graph"
   ]
  },
  {
   "cell_type": "code",
   "execution_count": 16,
   "metadata": {},
   "outputs": [
    {
     "data": {
      "image/png": "[encoded data removed]",
      "text/plain": [
       "<Figure size 640x480 with 1 Axes>"
      ]
     },
     "metadata": {},
     "output_type": "display_data"
    }
   ],
   "source": [
    "fantasyratemiss = fantasydf[\"rating\"].isna().sum()\n",
    "fantasyratepre = len(fantasydf) - fantasyratemiss\n",
    "adratetage = [fantasyratemiss,fantasyratepre]\n",
    "labelact = [\"Not Available\", \"Available\"]\n",
    "mat.pie(adratetage, labels=labelact, autopct='%1.1f%%',\n",
    "        shadow=True, startangle=90)\n",
    "mat.show()"
   ]
  },
  {
   "attachments": {},
   "cell_type": "markdown",
   "metadata": {},
   "source": [
    "### Top 20 movies in terms of rating"
   ]
  },
  {
   "cell_type": "code",
   "execution_count": 17,
   "metadata": {},
   "outputs": [
    {
     "data": {
      "text/html": [
       "<div>\n",
       "<style scoped>\n",
       "    .dataframe tbody tr th:only-of-type {\n",
       "        vertical-align: middle;\n",
       "    }\n",
       "\n",
       "    .dataframe tbody tr th {\n",
       "        vertical-align: top;\n",
       "    }\n",
       "\n",
       "    .dataframe thead th {\n",
       "        text-align: right;\n",
       "    }\n",
       "</style>\n",
       "<table border=\"1\" class=\"dataframe\">\n",
       "  <thead>\n",
       "    <tr style=\"text-align: right;\">\n",
       "      <th></th>\n",
       "      <th>movie_name</th>\n",
       "      <th>year</th>\n",
       "      <th>rating</th>\n",
       "    </tr>\n",
       "  </thead>\n",
       "  <tbody>\n",
       "    <tr>\n",
       "      <th>5917</th>\n",
       "      <td>Nerazumevalica (Understandinglessness)</td>\n",
       "      <td>2022</td>\n",
       "      <td>9.9</td>\n",
       "    </tr>\n",
       "    <tr>\n",
       "      <th>5595</th>\n",
       "      <td>Mrugtrushna</td>\n",
       "      <td>2021</td>\n",
       "      <td>9.8</td>\n",
       "    </tr>\n",
       "    <tr>\n",
       "      <th>4485</th>\n",
       "      <td>Unbounded - Animated Series</td>\n",
       "      <td>2022</td>\n",
       "      <td>9.7</td>\n",
       "    </tr>\n",
       "    <tr>\n",
       "      <th>9001</th>\n",
       "      <td>Pullu Rising</td>\n",
       "      <td>2022</td>\n",
       "      <td>9.6</td>\n",
       "    </tr>\n",
       "    <tr>\n",
       "      <th>5755</th>\n",
       "      <td>Adam &amp; the Water</td>\n",
       "      <td>2022</td>\n",
       "      <td>9.5</td>\n",
       "    </tr>\n",
       "    <tr>\n",
       "      <th>6158</th>\n",
       "      <td>Shards of Glass</td>\n",
       "      <td>2009</td>\n",
       "      <td>9.4</td>\n",
       "    </tr>\n",
       "    <tr>\n",
       "      <th>14280</th>\n",
       "      <td>Zo in Exile</td>\n",
       "      <td>2022</td>\n",
       "      <td>9.4</td>\n",
       "    </tr>\n",
       "    <tr>\n",
       "      <th>5573</th>\n",
       "      <td>Turning Mecard W: The Secret of Van dine - Spe...</td>\n",
       "      <td>2018</td>\n",
       "      <td>9.4</td>\n",
       "    </tr>\n",
       "    <tr>\n",
       "      <th>8307</th>\n",
       "      <td>Rifftrax: Twilight</td>\n",
       "      <td>2009</td>\n",
       "      <td>9.4</td>\n",
       "    </tr>\n",
       "    <tr>\n",
       "      <th>7612</th>\n",
       "      <td>Halcyon Dreams</td>\n",
       "      <td>2016</td>\n",
       "      <td>9.4</td>\n",
       "    </tr>\n",
       "    <tr>\n",
       "      <th>5558</th>\n",
       "      <td>Kamen Rider Geats × Revice: Movie Battle Royale</td>\n",
       "      <td>2022</td>\n",
       "      <td>9.4</td>\n",
       "    </tr>\n",
       "    <tr>\n",
       "      <th>5423</th>\n",
       "      <td>La otra magia</td>\n",
       "      <td>2016</td>\n",
       "      <td>9.4</td>\n",
       "    </tr>\n",
       "    <tr>\n",
       "      <th>8537</th>\n",
       "      <td>Juan Balucas at ang Bayabas</td>\n",
       "      <td>2018</td>\n",
       "      <td>9.4</td>\n",
       "    </tr>\n",
       "    <tr>\n",
       "      <th>6695</th>\n",
       "      <td>7 7</td>\n",
       "      <td>2022</td>\n",
       "      <td>9.4</td>\n",
       "    </tr>\n",
       "    <tr>\n",
       "      <th>3466</th>\n",
       "      <td>Spamalot</td>\n",
       "      <td>2004</td>\n",
       "      <td>9.4</td>\n",
       "    </tr>\n",
       "    <tr>\n",
       "      <th>9916</th>\n",
       "      <td>The World of Kapata</td>\n",
       "      <td>2022</td>\n",
       "      <td>9.4</td>\n",
       "    </tr>\n",
       "    <tr>\n",
       "      <th>5049</th>\n",
       "      <td>Teenage Vampire 2</td>\n",
       "      <td>2022</td>\n",
       "      <td>9.3</td>\n",
       "    </tr>\n",
       "    <tr>\n",
       "      <th>10396</th>\n",
       "      <td>Khudbudi</td>\n",
       "      <td>2022</td>\n",
       "      <td>9.3</td>\n",
       "    </tr>\n",
       "    <tr>\n",
       "      <th>1740</th>\n",
       "      <td>Ramayana: The Legend of Prince Rama</td>\n",
       "      <td>1993</td>\n",
       "      <td>9.2</td>\n",
       "    </tr>\n",
       "    <tr>\n",
       "      <th>9437</th>\n",
       "      <td>Angelita... Ako ang iyong ina</td>\n",
       "      <td>1979</td>\n",
       "      <td>9.2</td>\n",
       "    </tr>\n",
       "  </tbody>\n",
       "</table>\n",
       "</div>"
      ],
      "text/plain": [
       "                                              movie_name  year  rating\n",
       "5917              Nerazumevalica (Understandinglessness)  2022     9.9\n",
       "5595                                         Mrugtrushna  2021     9.8\n",
       "4485                         Unbounded - Animated Series  2022     9.7\n",
       "9001                                        Pullu Rising  2022     9.6\n",
       "5755                                    Adam & the Water  2022     9.5\n",
       "6158                                     Shards of Glass  2009     9.4\n",
       "14280                                        Zo in Exile  2022     9.4\n",
       "5573   Turning Mecard W: The Secret of Van dine - Spe...  2018     9.4\n",
       "8307                                  Rifftrax: Twilight  2009     9.4\n",
       "7612                                      Halcyon Dreams  2016     9.4\n",
       "5558     Kamen Rider Geats × Revice: Movie Battle Royale  2022     9.4\n",
       "5423                                       La otra magia  2016     9.4\n",
       "8537                         Juan Balucas at ang Bayabas  2018     9.4\n",
       "6695                                                 7 7  2022     9.4\n",
       "3466                                            Spamalot  2004     9.4\n",
       "9916                                 The World of Kapata  2022     9.4\n",
       "5049                                   Teenage Vampire 2  2022     9.3\n",
       "10396                                           Khudbudi  2022     9.3\n",
       "1740                 Ramayana: The Legend of Prince Rama  1993     9.2\n",
       "9437                       Angelita... Ako ang iyong ina  1979     9.2"
      ]
     },
     "execution_count": 17,
     "metadata": {},
     "output_type": "execute_result"
    }
   ],
   "source": [
    "fantasytop= fantasydf.sort_values(by=['rating'],ascending=False)\n",
    "fantasytop= fantasytop[:20]\n",
    "fantasytop[['movie_name','year','rating']]"
   ]
  },
  {
   "attachments": {},
   "cell_type": "markdown",
   "metadata": {},
   "source": [
    "### Rating Distribution Graph"
   ]
  },
  {
   "cell_type": "code",
   "execution_count": 18,
   "metadata": {},
   "outputs": [
    {
     "data": {
      "image/png": "[encoded data removed]",
      "text/plain": [
       "<Figure size 500x500 with 1 Axes>"
      ]
     },
     "metadata": {},
     "output_type": "display_data"
    }
   ],
   "source": [
    "rdgfantasy = fantasydf['rating']\n",
    "sea.displot(rdgfantasy,bins=10,kde=True)\n",
    "mat.show()"
   ]
  },
  {
   "attachments": {},
   "cell_type": "markdown",
   "metadata": {},
   "source": [
    "### Top 10 Movies with Highest Gross Income in Dollar"
   ]
  },
  {
   "cell_type": "code",
   "execution_count": 19,
   "metadata": {},
   "outputs": [
    {
     "data": {
      "text/html": [
       "<div>\n",
       "<style scoped>\n",
       "    .dataframe tbody tr th:only-of-type {\n",
       "        vertical-align: middle;\n",
       "    }\n",
       "\n",
       "    .dataframe tbody tr th {\n",
       "        vertical-align: top;\n",
       "    }\n",
       "\n",
       "    .dataframe thead th {\n",
       "        text-align: right;\n",
       "    }\n",
       "</style>\n",
       "<table border=\"1\" class=\"dataframe\">\n",
       "  <thead>\n",
       "    <tr style=\"text-align: right;\">\n",
       "      <th></th>\n",
       "      <th>movie_name</th>\n",
       "      <th>year</th>\n",
       "      <th>gross(in $)</th>\n",
       "    </tr>\n",
       "  </thead>\n",
       "  <tbody>\n",
       "    <tr>\n",
       "      <th>17</th>\n",
       "      <td>Spider-Man: No Way Home</td>\n",
       "      <td>2021</td>\n",
       "      <td>804747988.0</td>\n",
       "    </tr>\n",
       "    <tr>\n",
       "      <th>7</th>\n",
       "      <td>Avatar</td>\n",
       "      <td>2009</td>\n",
       "      <td>760507625.0</td>\n",
       "    </tr>\n",
       "    <tr>\n",
       "      <th>145</th>\n",
       "      <td>Star Wars: Episode VIII - The Last Jedi</td>\n",
       "      <td>2017</td>\n",
       "      <td>620181382.0</td>\n",
       "    </tr>\n",
       "    <tr>\n",
       "      <th>66</th>\n",
       "      <td>Star Wars: The Rise Of Skywalker</td>\n",
       "      <td>2019</td>\n",
       "      <td>515202542.0</td>\n",
       "    </tr>\n",
       "    <tr>\n",
       "      <th>88</th>\n",
       "      <td>Beauty and the Beast</td>\n",
       "      <td>2017</td>\n",
       "      <td>504014165.0</td>\n",
       "    </tr>\n",
       "    <tr>\n",
       "      <th>212</th>\n",
       "      <td>Frozen II</td>\n",
       "      <td>2019</td>\n",
       "      <td>477373578.0</td>\n",
       "    </tr>\n",
       "    <tr>\n",
       "      <th>81</th>\n",
       "      <td>Star Wars: Episode I - The Phantom Menace</td>\n",
       "      <td>1999</td>\n",
       "      <td>474544677.0</td>\n",
       "    </tr>\n",
       "    <tr>\n",
       "      <th>103</th>\n",
       "      <td>Shrek 2</td>\n",
       "      <td>2004</td>\n",
       "      <td>436471036.0</td>\n",
       "    </tr>\n",
       "    <tr>\n",
       "      <th>106</th>\n",
       "      <td>Toy Story 4</td>\n",
       "      <td>2019</td>\n",
       "      <td>434038008.0</td>\n",
       "    </tr>\n",
       "    <tr>\n",
       "      <th>178</th>\n",
       "      <td>Pirates of the Caribbean: Dead Man's Chest</td>\n",
       "      <td>2006</td>\n",
       "      <td>423315812.0</td>\n",
       "    </tr>\n",
       "  </tbody>\n",
       "</table>\n",
       "</div>"
      ],
      "text/plain": [
       "                                     movie_name  year  gross(in $)\n",
       "17                      Spider-Man: No Way Home  2021  804747988.0\n",
       "7                                        Avatar  2009  760507625.0\n",
       "145     Star Wars: Episode VIII - The Last Jedi  2017  620181382.0\n",
       "66             Star Wars: The Rise Of Skywalker  2019  515202542.0\n",
       "88                         Beauty and the Beast  2017  504014165.0\n",
       "212                                   Frozen II  2019  477373578.0\n",
       "81    Star Wars: Episode I - The Phantom Menace  1999  474544677.0\n",
       "103                                     Shrek 2  2004  436471036.0\n",
       "106                                 Toy Story 4  2019  434038008.0\n",
       "178  Pirates of the Caribbean: Dead Man's Chest  2006  423315812.0"
      ]
     },
     "execution_count": 19,
     "metadata": {},
     "output_type": "execute_result"
    }
   ],
   "source": [
    "fantasytopg= fantasydf.sort_values(by=['gross(in $)'],ascending=False)\n",
    "fantasytopg= fantasytopg[:10]\n",
    "fantasytopg[['movie_name','year','gross(in $)']]"
   ]
  },
  {
   "attachments": {},
   "cell_type": "markdown",
   "metadata": {},
   "source": [
    "### Analysis of Genre"
   ]
  },
  {
   "attachments": {},
   "cell_type": "markdown",
   "metadata": {},
   "source": [
    "#### Gross Incomes are missing on a large scale\n",
    "    -Therefore no USeful Prediction can be made with it\n",
    "\n",
    "#### There are Missing Values in:\n",
    "    - Certificates\n",
    "    - Rating\n",
    "    - Year\n",
    "    - Runtime\n",
    "    - Director and their ID\n",
    "    - Star and their ID\n",
    "    - Gross Income\n",
    "    - Votes\n",
    "    Therefore Analysis is according to Data Available"
   ]
  }
 ],
 "metadata": {
  "kernelspec": {
   "display_name": "Python 3",
   "language": "python",
   "name": "python3"
  },
  "language_info": {
   "codemirror_mode": {
    "name": "ipython",
    "version": 3
   },
   "file_extension": ".py",
   "mimetype": "text/x-python",
   "name": "python",
   "nbconvert_exporter": "python",
   "pygments_lexer": "ipython3",
   "version": "3.10.9"
  },
  "orig_nbformat": 4
 },
 "nbformat": 4,
 "nbformat_minor": 2
}
