{
 "cells": [
  {
   "attachments": {},
   "cell_type": "markdown",
   "metadata": {},
   "source": [
    "# History Film Analysis"
   ]
  },
  {
   "attachments": {},
   "cell_type": "markdown",
   "metadata": {},
   "source": [
    "## Importing Libraries"
   ]
  },
  {
   "cell_type": "code",
   "execution_count": 1,
   "metadata": {},
   "outputs": [],
   "source": [
    "import pandas as pd\n",
    "import matplotlib.pyplot as mat\n",
    "import seaborn as sea\n",
    "import openpyxl\n",
    "import numpy as np"
   ]
  },
  {
   "attachments": {},
   "cell_type": "markdown",
   "metadata": {},
   "source": [
    "## Adding Files"
   ]
  },
  {
   "cell_type": "code",
   "execution_count": 2,
   "metadata": {},
   "outputs": [],
   "source": [
    "historydf = pd.read_csv('history.csv')"
   ]
  },
  {
   "attachments": {},
   "cell_type": "markdown",
   "metadata": {},
   "source": [
    "### Managing Indexes"
   ]
  },
  {
   "cell_type": "code",
   "execution_count": 3,
   "metadata": {},
   "outputs": [],
   "source": [
    "historydf.index +=1"
   ]
  },
  {
   "attachments": {},
   "cell_type": "markdown",
   "metadata": {},
   "source": [
    "### Genre Description"
   ]
  },
  {
   "attachments": {},
   "cell_type": "markdown",
   "metadata": {},
   "source": [
    "### Genre Information"
   ]
  },
  {
   "cell_type": "code",
   "execution_count": 4,
   "metadata": {},
   "outputs": [
    {
     "name": "stdout",
     "output_type": "stream",
     "text": [
      "<class 'pandas.core.frame.DataFrame'>\n",
      "RangeIndex: 8996 entries, 1 to 8996\n",
      "Data columns (total 14 columns):\n",
      " #   Column       Non-Null Count  Dtype  \n",
      "---  ------       --------------  -----  \n",
      " 0   movie_id     8996 non-null   object \n",
      " 1   movie_name   8996 non-null   object \n",
      " 2   year         7701 non-null   object \n",
      " 3   certificate  1818 non-null   object \n",
      " 4   runtime      6439 non-null   object \n",
      " 5   genre        8996 non-null   object \n",
      " 6   rating       5503 non-null   float64\n",
      " 7   description  8996 non-null   object \n",
      " 8   director     8234 non-null   object \n",
      " 9   director_id  8234 non-null   object \n",
      " 10  star         7392 non-null   object \n",
      " 11  star_id      7524 non-null   object \n",
      " 12  votes        5504 non-null   float64\n",
      " 13  gross(in $)  644 non-null    float64\n",
      "dtypes: float64(3), object(11)\n",
      "memory usage: 984.1+ KB\n"
     ]
    }
   ],
   "source": [
    "historydf.info()"
   ]
  },
  {
   "attachments": {},
   "cell_type": "markdown",
   "metadata": {},
   "source": [
    "### Statistial Description of Genre"
   ]
  },
  {
   "cell_type": "code",
   "execution_count": 5,
   "metadata": {},
   "outputs": [
    {
     "data": {
      "text/plain": [
       "count    5503.000000\n",
       "mean        6.499255\n",
       "std         1.093865\n",
       "min         1.200000\n",
       "25%         5.900000\n",
       "50%         6.600000\n",
       "75%         7.200000\n",
       "max        10.000000\n",
       "Name: rating, dtype: float64"
      ]
     },
     "execution_count": 5,
     "metadata": {},
     "output_type": "execute_result"
    }
   ],
   "source": [
    "historydf[\"rating\"].describe()"
   ]
  },
  {
   "attachments": {},
   "cell_type": "markdown",
   "metadata": {},
   "source": [
    "### Count of null values"
   ]
  },
  {
   "cell_type": "code",
   "execution_count": 6,
   "metadata": {},
   "outputs": [
    {
     "data": {
      "text/plain": [
       "movie_id          0\n",
       "movie_name        0\n",
       "year           1295\n",
       "certificate    7178\n",
       "runtime        2557\n",
       "genre             0\n",
       "rating         3493\n",
       "description       0\n",
       "director        762\n",
       "director_id     762\n",
       "star           1604\n",
       "star_id        1472\n",
       "votes          3492\n",
       "gross(in $)    8352\n",
       "dtype: int64"
      ]
     },
     "execution_count": 6,
     "metadata": {},
     "output_type": "execute_result"
    }
   ],
   "source": [
    "historynull = historydf.isna().sum()\n",
    "historynull"
   ]
  },
  {
   "attachments": {},
   "cell_type": "markdown",
   "metadata": {},
   "source": [
    "### Percentage of missing values"
   ]
  },
  {
   "cell_type": "code",
   "execution_count": 7,
   "metadata": {},
   "outputs": [
    {
     "data": {
      "text/plain": [
       "gross(in $)    92.841263\n",
       "certificate    79.791018\n",
       "rating         38.828368\n",
       "votes          38.817252\n",
       "runtime        28.423744\n",
       "star           17.830147\n",
       "star_id        16.362828\n",
       "year           14.395287\n",
       "director        8.470431\n",
       "director_id     8.470431\n",
       "movie_id        0.000000\n",
       "movie_name      0.000000\n",
       "genre           0.000000\n",
       "description     0.000000\n",
       "dtype: float64"
      ]
     },
     "execution_count": 7,
     "metadata": {},
     "output_type": "execute_result"
    }
   ],
   "source": [
    "historymiss = historydf.isna().sum().sort_values(ascending=False)*100/len(historydf)\n",
    "historymiss"
   ]
  },
  {
   "attachments": {},
   "cell_type": "markdown",
   "metadata": {},
   "source": [
    "### Missing Rating Ratio Graph"
   ]
  },
  {
   "cell_type": "code",
   "execution_count": 8,
   "metadata": {},
   "outputs": [
    {
     "data": {
      "image/png": "[encoded data removed]",
      "text/plain": [
       "<Figure size 640x480 with 1 Axes>"
      ]
     },
     "metadata": {},
     "output_type": "display_data"
    }
   ],
   "source": [
    "historyratemiss = historydf[\"rating\"].isna().sum()\n",
    "historyratepre = len(historydf) - historyratemiss\n",
    "actratetage = [historyratemiss,historyratepre]\n",
    "labelact = [\"Not Available\", \"Available\"]\n",
    "mat.pie(actratetage, labels=labelact, autopct='%1.1f%%',\n",
    "        shadow=True, startangle=90)\n",
    "mat.show()"
   ]
  },
  {
   "attachments": {},
   "cell_type": "markdown",
   "metadata": {},
   "source": [
    "### Top 20 movies in terms of rating"
   ]
  },
  {
   "cell_type": "code",
   "execution_count": 9,
   "metadata": {},
   "outputs": [
    {
     "data": {
      "text/html": [
       "<div>\n",
       "<style scoped>\n",
       "    .dataframe tbody tr th:only-of-type {\n",
       "        vertical-align: middle;\n",
       "    }\n",
       "\n",
       "    .dataframe tbody tr th {\n",
       "        vertical-align: top;\n",
       "    }\n",
       "\n",
       "    .dataframe thead th {\n",
       "        text-align: right;\n",
       "    }\n",
       "</style>\n",
       "<table border=\"1\" class=\"dataframe\">\n",
       "  <thead>\n",
       "    <tr style=\"text-align: right;\">\n",
       "      <th></th>\n",
       "      <th>movie_name</th>\n",
       "      <th>year</th>\n",
       "      <th>rating</th>\n",
       "    </tr>\n",
       "  </thead>\n",
       "  <tbody>\n",
       "    <tr>\n",
       "      <th>1323</th>\n",
       "      <td>Journey of Eternity</td>\n",
       "      <td>2019</td>\n",
       "      <td>10.0</td>\n",
       "    </tr>\n",
       "    <tr>\n",
       "      <th>2738</th>\n",
       "      <td>Time's Paradox</td>\n",
       "      <td>2023</td>\n",
       "      <td>10.0</td>\n",
       "    </tr>\n",
       "    <tr>\n",
       "      <th>3058</th>\n",
       "      <td>Sika</td>\n",
       "      <td>2022</td>\n",
       "      <td>9.9</td>\n",
       "    </tr>\n",
       "    <tr>\n",
       "      <th>4525</th>\n",
       "      <td>Prince Oak Oakleyski: Lord Kandanai Maneesawath</td>\n",
       "      <td>2022</td>\n",
       "      <td>9.8</td>\n",
       "    </tr>\n",
       "    <tr>\n",
       "      <th>6249</th>\n",
       "      <td>Lo spirito del serchio</td>\n",
       "      <td>2009</td>\n",
       "      <td>9.7</td>\n",
       "    </tr>\n",
       "    <tr>\n",
       "      <th>3712</th>\n",
       "      <td>Forgotten Heroes: The Robert Hartsock Story</td>\n",
       "      <td>2019</td>\n",
       "      <td>9.7</td>\n",
       "    </tr>\n",
       "    <tr>\n",
       "      <th>3068</th>\n",
       "      <td>Tutankhamun: Enter the Tomb</td>\n",
       "      <td>2019</td>\n",
       "      <td>9.7</td>\n",
       "    </tr>\n",
       "    <tr>\n",
       "      <th>4921</th>\n",
       "      <td>Prince of Eurasia</td>\n",
       "      <td>2022</td>\n",
       "      <td>9.7</td>\n",
       "    </tr>\n",
       "    <tr>\n",
       "      <th>3353</th>\n",
       "      <td>La Grande Guerra del Salento</td>\n",
       "      <td>2022</td>\n",
       "      <td>9.6</td>\n",
       "    </tr>\n",
       "    <tr>\n",
       "      <th>2975</th>\n",
       "      <td>The Unfinished Portrait</td>\n",
       "      <td>2019</td>\n",
       "      <td>9.6</td>\n",
       "    </tr>\n",
       "    <tr>\n",
       "      <th>2954</th>\n",
       "      <td>Seven Thousand Souls</td>\n",
       "      <td>2020</td>\n",
       "      <td>9.6</td>\n",
       "    </tr>\n",
       "    <tr>\n",
       "      <th>2374</th>\n",
       "      <td>Marco Polo: The China Mystery Revealed</td>\n",
       "      <td>2022</td>\n",
       "      <td>9.5</td>\n",
       "    </tr>\n",
       "    <tr>\n",
       "      <th>3716</th>\n",
       "      <td>Enchained</td>\n",
       "      <td>2019</td>\n",
       "      <td>9.5</td>\n",
       "    </tr>\n",
       "    <tr>\n",
       "      <th>2047</th>\n",
       "      <td>Quota - The Reservation</td>\n",
       "      <td>2022</td>\n",
       "      <td>9.5</td>\n",
       "    </tr>\n",
       "    <tr>\n",
       "      <th>5561</th>\n",
       "      <td>Ibn Hanbal</td>\n",
       "      <td>2017</td>\n",
       "      <td>9.4</td>\n",
       "    </tr>\n",
       "    <tr>\n",
       "      <th>1968</th>\n",
       "      <td>Swaraj: Bharat Ke Swatantrata Sangram Ki Samag...</td>\n",
       "      <td>2022</td>\n",
       "      <td>9.4</td>\n",
       "    </tr>\n",
       "    <tr>\n",
       "      <th>6472</th>\n",
       "      <td>The Business of Show Business</td>\n",
       "      <td>1983</td>\n",
       "      <td>9.4</td>\n",
       "    </tr>\n",
       "    <tr>\n",
       "      <th>4036</th>\n",
       "      <td>Lupeo</td>\n",
       "      <td>2020</td>\n",
       "      <td>9.4</td>\n",
       "    </tr>\n",
       "    <tr>\n",
       "      <th>4318</th>\n",
       "      <td>Life of St. Paul Series</td>\n",
       "      <td>1949</td>\n",
       "      <td>9.4</td>\n",
       "    </tr>\n",
       "    <tr>\n",
       "      <th>2645</th>\n",
       "      <td>Maipa Deapati &amp; Datu Museng (The Hero</td>\n",
       "      <td>2018</td>\n",
       "      <td>9.3</td>\n",
       "    </tr>\n",
       "  </tbody>\n",
       "</table>\n",
       "</div>"
      ],
      "text/plain": [
       "                                             movie_name  year  rating\n",
       "1323                                Journey of Eternity  2019    10.0\n",
       "2738                                     Time's Paradox  2023    10.0\n",
       "3058                                               Sika  2022     9.9\n",
       "4525    Prince Oak Oakleyski: Lord Kandanai Maneesawath  2022     9.8\n",
       "6249                             Lo spirito del serchio  2009     9.7\n",
       "3712        Forgotten Heroes: The Robert Hartsock Story  2019     9.7\n",
       "3068                        Tutankhamun: Enter the Tomb  2019     9.7\n",
       "4921                                  Prince of Eurasia  2022     9.7\n",
       "3353                       La Grande Guerra del Salento  2022     9.6\n",
       "2975                            The Unfinished Portrait  2019     9.6\n",
       "2954                               Seven Thousand Souls  2020     9.6\n",
       "2374             Marco Polo: The China Mystery Revealed  2022     9.5\n",
       "3716                                          Enchained  2019     9.5\n",
       "2047                            Quota - The Reservation  2022     9.5\n",
       "5561                                         Ibn Hanbal  2017     9.4\n",
       "1968  Swaraj: Bharat Ke Swatantrata Sangram Ki Samag...  2022     9.4\n",
       "6472                      The Business of Show Business  1983     9.4\n",
       "4036                                              Lupeo  2020     9.4\n",
       "4318                            Life of St. Paul Series  1949     9.4\n",
       "2645              Maipa Deapati & Datu Museng (The Hero  2018     9.3"
      ]
     },
     "execution_count": 9,
     "metadata": {},
     "output_type": "execute_result"
    }
   ],
   "source": [
    "historytop= historydf.sort_values(by=['rating'],ascending=False)\n",
    "historytop= historytop[:20]\n",
    "historytop[['movie_name','year','rating']]"
   ]
  },
  {
   "attachments": {},
   "cell_type": "markdown",
   "metadata": {},
   "source": [
    "### Rating Distribution Graph"
   ]
  },
  {
   "cell_type": "code",
   "execution_count": 10,
   "metadata": {},
   "outputs": [
    {
     "data": {
      "image/png": "[encoded data removed]",
      "text/plain": [
       "<Figure size 500x500 with 1 Axes>"
      ]
     },
     "metadata": {},
     "output_type": "display_data"
    }
   ],
   "source": [
    "rdghistory = historydf['rating']\n",
    "sea.displot(rdghistory,bins=10,kde=True)\n",
    "mat.show()"
   ]
  },
  {
   "attachments": {},
   "cell_type": "markdown",
   "metadata": {},
   "source": [
    "### Top 10 Movies with Highest Gross Income in Dollar"
   ]
  },
  {
   "cell_type": "code",
   "execution_count": 11,
   "metadata": {},
   "outputs": [
    {
     "data": {
      "text/html": [
       "<div>\n",
       "<style scoped>\n",
       "    .dataframe tbody tr th:only-of-type {\n",
       "        vertical-align: middle;\n",
       "    }\n",
       "\n",
       "    .dataframe tbody tr th {\n",
       "        vertical-align: top;\n",
       "    }\n",
       "\n",
       "    .dataframe thead th {\n",
       "        text-align: right;\n",
       "    }\n",
       "</style>\n",
       "<table border=\"1\" class=\"dataframe\">\n",
       "  <thead>\n",
       "    <tr style=\"text-align: right;\">\n",
       "      <th></th>\n",
       "      <th>movie_name</th>\n",
       "      <th>year</th>\n",
       "      <th>gross(in $)</th>\n",
       "    </tr>\n",
       "  </thead>\n",
       "  <tbody>\n",
       "    <tr>\n",
       "      <th>34</th>\n",
       "      <td>Pearl Harbor</td>\n",
       "      <td>2001</td>\n",
       "      <td>198542554.0</td>\n",
       "    </tr>\n",
       "    <tr>\n",
       "      <th>10</th>\n",
       "      <td>Dunkirk</td>\n",
       "      <td>2017</td>\n",
       "      <td>188373161.0</td>\n",
       "    </tr>\n",
       "    <tr>\n",
       "      <th>56</th>\n",
       "      <td>Lincoln</td>\n",
       "      <td>2012</td>\n",
       "      <td>182207973.0</td>\n",
       "    </tr>\n",
       "    <tr>\n",
       "      <th>55</th>\n",
       "      <td>Apollo 13</td>\n",
       "      <td>1995</td>\n",
       "      <td>173837933.0</td>\n",
       "    </tr>\n",
       "    <tr>\n",
       "      <th>11</th>\n",
       "      <td>Hidden Figures</td>\n",
       "      <td>2016</td>\n",
       "      <td>169607287.0</td>\n",
       "    </tr>\n",
       "    <tr>\n",
       "      <th>68</th>\n",
       "      <td>Straight Outta Compton</td>\n",
       "      <td>2015</td>\n",
       "      <td>161197785.0</td>\n",
       "    </tr>\n",
       "    <tr>\n",
       "      <th>47</th>\n",
       "      <td>The King's Speech</td>\n",
       "      <td>2010</td>\n",
       "      <td>138797449.0</td>\n",
       "    </tr>\n",
       "    <tr>\n",
       "      <th>163</th>\n",
       "      <td>Seabiscuit</td>\n",
       "      <td>2003</td>\n",
       "      <td>120277854.0</td>\n",
       "    </tr>\n",
       "    <tr>\n",
       "      <th>51</th>\n",
       "      <td>The Patriot</td>\n",
       "      <td>2000</td>\n",
       "      <td>113330342.0</td>\n",
       "    </tr>\n",
       "    <tr>\n",
       "      <th>208</th>\n",
       "      <td>Mr. Peabody &amp; Sherman</td>\n",
       "      <td>2014</td>\n",
       "      <td>111506430.0</td>\n",
       "    </tr>\n",
       "  </tbody>\n",
       "</table>\n",
       "</div>"
      ],
      "text/plain": [
       "                 movie_name  year  gross(in $)\n",
       "34             Pearl Harbor  2001  198542554.0\n",
       "10                  Dunkirk  2017  188373161.0\n",
       "56                  Lincoln  2012  182207973.0\n",
       "55                Apollo 13  1995  173837933.0\n",
       "11           Hidden Figures  2016  169607287.0\n",
       "68   Straight Outta Compton  2015  161197785.0\n",
       "47        The King's Speech  2010  138797449.0\n",
       "163              Seabiscuit  2003  120277854.0\n",
       "51              The Patriot  2000  113330342.0\n",
       "208   Mr. Peabody & Sherman  2014  111506430.0"
      ]
     },
     "execution_count": 11,
     "metadata": {},
     "output_type": "execute_result"
    }
   ],
   "source": [
    "historytopg= historydf.sort_values(by=['gross(in $)'],ascending=False)\n",
    "historytopg= historytopg[:10]\n",
    "historytopg[['movie_name','year','gross(in $)']]"
   ]
  },
  {
   "attachments": {},
   "cell_type": "markdown",
   "metadata": {},
   "source": [
    "### Analysis of Genre"
   ]
  },
  {
   "attachments": {},
   "cell_type": "markdown",
   "metadata": {},
   "source": [
    "#### Gross Incomes are missing on a large scale\n",
    "    -Therefore no USeful Prediction can be made with it\n",
    "\n",
    "#### There are Missing Values in:\n",
    "    - Certificates\n",
    "    - Rating\n",
    "    - Year\n",
    "    - Runtime\n",
    "    - Director and their ID\n",
    "    - Star and their ID\n",
    "    - Gross Income\n",
    "    - Votes\n",
    "    Therefore Analysis is according to Data Available"
   ]
  }
 ],
 "metadata": {
  "kernelspec": {
   "display_name": "Python 3",
   "language": "python",
   "name": "python3"
  },
  "language_info": {
   "codemirror_mode": {
    "name": "ipython",
    "version": 3
   },
   "file_extension": ".py",
   "mimetype": "text/x-python",
   "name": "python",
   "nbconvert_exporter": "python",
   "pygments_lexer": "ipython3",
   "version": "3.10.9"
  },
  "orig_nbformat": 4
 },
 "nbformat": 4,
 "nbformat_minor": 2
}
