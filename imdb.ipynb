{
 "cells": [
  {
   "cell_type": "code",
   "execution_count": 1,
   "metadata": {},
   "outputs": [],
   "source": [
    "import pandas as pd\n",
    "import matplotlib.pyplot as mat\n",
    "import seaborn as sea\n",
    "import openpyxl\n",
    "import numpy as np"
   ]
  },
  {
   "attachments": {},
   "cell_type": "markdown",
   "metadata": {},
   "source": [
    "## Adding Files"
   ]
  },
  {
   "cell_type": "code",
   "execution_count": 2,
   "metadata": {},
   "outputs": [],
   "source": [
    "actiondf = pd.read_csv('action.csv')\n",
    "adventuredf = pd.read_csv(\"adventure.csv\")\n",
    "crimedf = pd.read_csv(\"crime.csv\")\n",
    "familydf = pd.read_csv(\"family.csv\")\n",
    "fantasydf = pd.read_csv(\"fantasy.csv\")\n",
    "filmnoirdf = pd.read_csv(\"film-noir.csv\")\n",
    "historydf = pd.read_csv(\"history.csv\")\n",
    "horrordf = pd.read_csv(\"horror.csv\")\n",
    "mysterydf = pd.read_csv(\"mystery.csv\")\n",
    "scifidf = pd.read_csv(\"scifi.csv\")\n",
    "sportsdf = pd.read_csv(\"sports.csv\")\n",
    "thrillerdf = pd.read_csv(\"thriller.csv\")\n",
    "wardf = pd.read_csv(\"war.csv\")"
   ]
  },
  {
   "attachments": {},
   "cell_type": "markdown",
   "metadata": {},
   "source": [
    "### Managing Indexes"
   ]
  },
  {
   "cell_type": "code",
   "execution_count": 3,
   "metadata": {},
   "outputs": [],
   "source": [
    "actiondf.index +=1\n",
    "adventuredf.index +=1\n",
    "crimedf.index +=1\n",
    "familydf.index +=1\n",
    "fantasydf.index +=1\n",
    "filmnoirdf.index +=1\n",
    "historydf.index +=1\n",
    "horrordf.index +=1\n",
    "mysterydf.index +=1\n",
    "scifidf.index +=1\n",
    "sportsdf.index +=1\n",
    "thrillerdf.index +=1\n",
    "wardf.index +=1"
   ]
  },
  {
   "attachments": {},
   "cell_type": "markdown",
   "metadata": {},
   "source": [
    "## Analyzing Action Movies"
   ]
  },
  {
   "attachments": {},
   "cell_type": "markdown",
   "metadata": {},
   "source": [
    "### Genre Description"
   ]
  },
  {
   "attachments": {},
   "cell_type": "markdown",
   "metadata": {},
   "source": [
    "### Genre Information"
   ]
  },
  {
   "cell_type": "code",
   "execution_count": 4,
   "metadata": {},
   "outputs": [
    {
     "name": "stdout",
     "output_type": "stream",
     "text": [
      "<class 'pandas.core.frame.DataFrame'>\n",
      "RangeIndex: 52452 entries, 1 to 52452\n",
      "Data columns (total 14 columns):\n",
      " #   Column       Non-Null Count  Dtype  \n",
      "---  ------       --------------  -----  \n",
      " 0   movie_id     52452 non-null  object \n",
      " 1   movie_name   52452 non-null  object \n",
      " 2   year         44193 non-null  object \n",
      " 3   certificate  13668 non-null  object \n",
      " 4   runtime      32530 non-null  object \n",
      " 5   genre        52452 non-null  object \n",
      " 6   rating       29448 non-null  float64\n",
      " 7   description  52452 non-null  object \n",
      " 8   director     47819 non-null  object \n",
      " 9   director_id  47819 non-null  object \n",
      " 10  star         43212 non-null  object \n",
      " 11  star_id      44621 non-null  object \n",
      " 12  votes        29450 non-null  float64\n",
      " 13  gross(in $)  2760 non-null   float64\n",
      "dtypes: float64(3), object(11)\n",
      "memory usage: 5.6+ MB\n"
     ]
    }
   ],
   "source": [
    "actiondf.info()"
   ]
  },
  {
   "attachments": {},
   "cell_type": "markdown",
   "metadata": {},
   "source": [
    "### Statistial Description of Genre"
   ]
  },
  {
   "cell_type": "code",
   "execution_count": 5,
   "metadata": {},
   "outputs": [
    {
     "data": {
      "text/plain": [
       "count    29448.000000\n",
       "mean         5.697755\n",
       "std          1.359132\n",
       "min          1.100000\n",
       "25%          4.800000\n",
       "50%          5.800000\n",
       "75%          6.600000\n",
       "max         10.000000\n",
       "Name: rating, dtype: float64"
      ]
     },
     "execution_count": 5,
     "metadata": {},
     "output_type": "execute_result"
    }
   ],
   "source": [
    "actiondf[\"rating\"].describe()"
   ]
  },
  {
   "attachments": {},
   "cell_type": "markdown",
   "metadata": {},
   "source": [
    "### Count of null values"
   ]
  },
  {
   "cell_type": "code",
   "execution_count": 6,
   "metadata": {},
   "outputs": [
    {
     "data": {
      "text/plain": [
       "movie_id           0\n",
       "movie_name         0\n",
       "year            8259\n",
       "certificate    38784\n",
       "runtime        19922\n",
       "genre              0\n",
       "rating         23004\n",
       "description        0\n",
       "director        4633\n",
       "director_id     4633\n",
       "star            9240\n",
       "star_id         7831\n",
       "votes          23002\n",
       "gross(in $)    49692\n",
       "dtype: int64"
      ]
     },
     "execution_count": 6,
     "metadata": {},
     "output_type": "execute_result"
    }
   ],
   "source": [
    "actionnull = actiondf.isna().sum()\n",
    "actionnull"
   ]
  },
  {
   "attachments": {},
   "cell_type": "markdown",
   "metadata": {},
   "source": [
    "### Percentage of missing values"
   ]
  },
  {
   "cell_type": "code",
   "execution_count": 7,
   "metadata": {},
   "outputs": [
    {
     "data": {
      "text/plain": [
       "gross(in $)    94.738046\n",
       "certificate    73.941890\n",
       "rating         43.857241\n",
       "votes          43.853428\n",
       "runtime        37.981393\n",
       "star           17.616106\n",
       "year           15.745825\n",
       "star_id        14.929841\n",
       "director        8.832838\n",
       "director_id     8.832838\n",
       "movie_id        0.000000\n",
       "movie_name      0.000000\n",
       "genre           0.000000\n",
       "description     0.000000\n",
       "dtype: float64"
      ]
     },
     "execution_count": 7,
     "metadata": {},
     "output_type": "execute_result"
    }
   ],
   "source": [
    "actionmiss = actiondf.isna().sum().sort_values(ascending=False)*100/len(actiondf)\n",
    "actionmiss"
   ]
  },
  {
   "attachments": {},
   "cell_type": "markdown",
   "metadata": {},
   "source": [
    "### Missing Rating Ratio Graph"
   ]
  },
  {
   "cell_type": "code",
   "execution_count": 8,
   "metadata": {},
   "outputs": [
    {
     "data": {
      "image/png": "[encoded data removed]",
      "text/plain": [
       "<Figure size 640x480 with 1 Axes>"
      ]
     },
     "metadata": {},
     "output_type": "display_data"
    }
   ],
   "source": [
    "actionratemiss = actiondf[\"rating\"].isna().sum()\n",
    "actionratepre = len(actiondf) - actionratemiss\n",
    "actratetage = [actionratemiss,actionratepre]\n",
    "labelact = [\"Not Available\", \"Available\"]\n",
    "mat.pie(actratetage, labels=labelact, autopct='%1.1f%%',\n",
    "        shadow=True, startangle=90)\n",
    "mat.show()"
   ]
  },
  {
   "attachments": {},
   "cell_type": "markdown",
   "metadata": {},
   "source": [
    "### Top 20 movies in terms of rating"
   ]
  },
  {
   "cell_type": "code",
   "execution_count": 38,
   "metadata": {},
   "outputs": [
    {
     "data": {
      "text/html": [
       "<div>\n",
       "<style scoped>\n",
       "    .dataframe tbody tr th:only-of-type {\n",
       "        vertical-align: middle;\n",
       "    }\n",
       "\n",
       "    .dataframe tbody tr th {\n",
       "        vertical-align: top;\n",
       "    }\n",
       "\n",
       "    .dataframe thead th {\n",
       "        text-align: right;\n",
       "    }\n",
       "</style>\n",
       "<table border=\"1\" class=\"dataframe\">\n",
       "  <thead>\n",
       "    <tr style=\"text-align: right;\">\n",
       "      <th></th>\n",
       "      <th>movie_name</th>\n",
       "      <th>year</th>\n",
       "      <th>rating</th>\n",
       "    </tr>\n",
       "  </thead>\n",
       "  <tbody>\n",
       "    <tr>\n",
       "      <th>7562</th>\n",
       "      <td>Invisible Hacker</td>\n",
       "      <td>2023</td>\n",
       "      <td>10.0</td>\n",
       "    </tr>\n",
       "    <tr>\n",
       "      <th>25263</th>\n",
       "      <td>Love Mein</td>\n",
       "      <td>2022</td>\n",
       "      <td>10.0</td>\n",
       "    </tr>\n",
       "    <tr>\n",
       "      <th>15495</th>\n",
       "      <td>An Example of Teenage Boredom: The Movie</td>\n",
       "      <td>2022</td>\n",
       "      <td>10.0</td>\n",
       "    </tr>\n",
       "    <tr>\n",
       "      <th>15362</th>\n",
       "      <td>Low Heat</td>\n",
       "      <td>2021</td>\n",
       "      <td>9.9</td>\n",
       "    </tr>\n",
       "    <tr>\n",
       "      <th>24783</th>\n",
       "      <td>Hangga't may hininga</td>\n",
       "      <td>1964</td>\n",
       "      <td>9.8</td>\n",
       "    </tr>\n",
       "    <tr>\n",
       "      <th>19834</th>\n",
       "      <td>Angelito San Miguel at Ang Mga Batang City Jail</td>\n",
       "      <td>1991</td>\n",
       "      <td>9.8</td>\n",
       "    </tr>\n",
       "    <tr>\n",
       "      <th>27095</th>\n",
       "      <td>The Key of Baku</td>\n",
       "      <td>2022</td>\n",
       "      <td>9.8</td>\n",
       "    </tr>\n",
       "    <tr>\n",
       "      <th>15737</th>\n",
       "      <td>The Shoonyah: Chapter 1 - Blow of the War Horns</td>\n",
       "      <td>2021</td>\n",
       "      <td>9.8</td>\n",
       "    </tr>\n",
       "    <tr>\n",
       "      <th>29637</th>\n",
       "      <td>Thorn in the Center of the Heart (Sin Lai Guh ...</td>\n",
       "      <td>2021</td>\n",
       "      <td>9.7</td>\n",
       "    </tr>\n",
       "    <tr>\n",
       "      <th>30201</th>\n",
       "      <td>Agent Big Bones: Who Killed Jason Bones?</td>\n",
       "      <td>2021</td>\n",
       "      <td>9.7</td>\n",
       "    </tr>\n",
       "    <tr>\n",
       "      <th>19067</th>\n",
       "      <td>Shiba King: Assassination</td>\n",
       "      <td>2022</td>\n",
       "      <td>9.7</td>\n",
       "    </tr>\n",
       "    <tr>\n",
       "      <th>28420</th>\n",
       "      <td>Prince of Eurasia</td>\n",
       "      <td>2022</td>\n",
       "      <td>9.7</td>\n",
       "    </tr>\n",
       "    <tr>\n",
       "      <th>9356</th>\n",
       "      <td>Masand</td>\n",
       "      <td>2022</td>\n",
       "      <td>9.7</td>\n",
       "    </tr>\n",
       "    <tr>\n",
       "      <th>14279</th>\n",
       "      <td>Lakhey</td>\n",
       "      <td>2022</td>\n",
       "      <td>9.6</td>\n",
       "    </tr>\n",
       "    <tr>\n",
       "      <th>23058</th>\n",
       "      <td>King B.'s ROOST the Sequel</td>\n",
       "      <td>2010</td>\n",
       "      <td>9.6</td>\n",
       "    </tr>\n",
       "    <tr>\n",
       "      <th>14572</th>\n",
       "      <td>La Muerte De Un Federal</td>\n",
       "      <td>2019</td>\n",
       "      <td>9.6</td>\n",
       "    </tr>\n",
       "    <tr>\n",
       "      <th>18411</th>\n",
       "      <td>Shura no sekai</td>\n",
       "      <td>2022</td>\n",
       "      <td>9.6</td>\n",
       "    </tr>\n",
       "    <tr>\n",
       "      <th>15116</th>\n",
       "      <td>Aye Bujji Neeku Nene</td>\n",
       "      <td>2022</td>\n",
       "      <td>9.6</td>\n",
       "    </tr>\n",
       "    <tr>\n",
       "      <th>23386</th>\n",
       "      <td>Shambho Shiva Shankara</td>\n",
       "      <td>2022</td>\n",
       "      <td>9.6</td>\n",
       "    </tr>\n",
       "    <tr>\n",
       "      <th>26561</th>\n",
       "      <td>The Knight Squad</td>\n",
       "      <td>2014</td>\n",
       "      <td>9.6</td>\n",
       "    </tr>\n",
       "  </tbody>\n",
       "</table>\n",
       "</div>"
      ],
      "text/plain": [
       "                                              movie_name  year  rating\n",
       "7562                                    Invisible Hacker  2023    10.0\n",
       "25263                                          Love Mein  2022    10.0\n",
       "15495           An Example of Teenage Boredom: The Movie  2022    10.0\n",
       "15362                                           Low Heat  2021     9.9\n",
       "24783                               Hangga't may hininga  1964     9.8\n",
       "19834    Angelito San Miguel at Ang Mga Batang City Jail  1991     9.8\n",
       "27095                                    The Key of Baku  2022     9.8\n",
       "15737    The Shoonyah: Chapter 1 - Blow of the War Horns  2021     9.8\n",
       "29637  Thorn in the Center of the Heart (Sin Lai Guh ...  2021     9.7\n",
       "30201           Agent Big Bones: Who Killed Jason Bones?  2021     9.7\n",
       "19067                          Shiba King: Assassination  2022     9.7\n",
       "28420                                  Prince of Eurasia  2022     9.7\n",
       "9356                                              Masand  2022     9.7\n",
       "14279                                             Lakhey  2022     9.6\n",
       "23058                         King B.'s ROOST the Sequel  2010     9.6\n",
       "14572                            La Muerte De Un Federal  2019     9.6\n",
       "18411                                     Shura no sekai  2022     9.6\n",
       "15116                               Aye Bujji Neeku Nene  2022     9.6\n",
       "23386                             Shambho Shiva Shankara  2022     9.6\n",
       "26561                                   The Knight Squad  2014     9.6"
      ]
     },
     "execution_count": 38,
     "metadata": {},
     "output_type": "execute_result"
    }
   ],
   "source": [
    "a= actiondf.sort_values(by=['rating'],ascending=False)\n",
    "a= a[:20]\n",
    "a[['movie_name','year','rating']]"
   ]
  },
  {
   "attachments": {},
   "cell_type": "markdown",
   "metadata": {},
   "source": [
    "### Analysis of Genre"
   ]
  },
  {
   "attachments": {},
   "cell_type": "markdown",
   "metadata": {},
   "source": [
    "#### Gross Incomes are missing on a large scale\n",
    "    -Therefore no USeful Prediction can be made with it\n",
    "\n",
    "#### There are Missing Values in:\n",
    "    - Certificates\n",
    "    - Rating\n",
    "    - Year\n",
    "    - Runtime\n",
    "    - Director and their ID\n",
    "    - Star and their ID\n",
    "    - Gross Income\n",
    "    - Votes\n",
    "    Therefore Analysis is according to Data Available"
   ]
  }
 ],
 "metadata": {
  "kernelspec": {
   "display_name": "Python 3",
   "language": "python",
   "name": "python3"
  },
  "language_info": {
   "codemirror_mode": {
    "name": "ipython",
    "version": 3
   },
   "file_extension": ".py",
   "mimetype": "text/x-python",
   "name": "python",
   "nbconvert_exporter": "python",
   "pygments_lexer": "ipython3",
   "version": "3.10.9"
  },
  "orig_nbformat": 4
 },
 "nbformat": 4,
 "nbformat_minor": 2
}
